{
 "cells": [
  {
   "cell_type": "markdown",
   "id": "da779b86",
   "metadata": {},
   "source": [
    "## Final Project:Telecom customer churn"
   ]
  },
  {
   "cell_type": "markdown",
   "id": "9f3bc748",
   "metadata": {},
   "source": [
    "### I. Introduction\n",
    "Nowadays, companies are increasingly aware of the importance of subscription services, and the churn rate is a critical indicator to track the health of a subscription-based company. To be more precise, the company can take measures in advance by predicting the customer churn rate to retain customers consistently. Therefore, this project goal is to make a churn prediction so that Telco can optimize products and services proactively."
   ]
  },
  {
   "cell_type": "markdown",
   "id": "26cd933d",
   "metadata": {},
   "source": [
    "###  importing libraries"
   ]
  },
  {
   "cell_type": "code",
   "execution_count": 1,
   "id": "6dcd4dd9",
   "metadata": {},
   "outputs": [],
   "source": [
    "import pandas as pd # Pandas for data manipulation of the dataframe.\n",
    "import numpy as np # Numerical pyhton to do numerical calculation.\n",
    "\n",
    "# To do a visualisation of the different plots.\n",
    "import seaborn as sns\n",
    "from matplotlib import pyplot as plt\n",
    "import matplotlib.pyplot as plt"
   ]
  },
  {
   "cell_type": "markdown",
   "id": "90f63d24",
   "metadata": {},
   "source": [
    "## Webscapping"
   ]
  },
  {
   "cell_type": "code",
   "execution_count": 2,
   "id": "8238c5fd",
   "metadata": {},
   "outputs": [],
   "source": [
    "# In this step we start webscapping for fetching data of varius city name of Iran because the customer telecom data is confidential I cant find any Free Api for getting telecome data"
   ]
  },
  {
   "cell_type": "code",
   "execution_count": 3,
   "id": "e76385a5",
   "metadata": {},
   "outputs": [],
   "source": [
    "import requests\n",
    "from bs4 import BeautifulSoup\n",
    "\n",
    "url = \"https://en.wikipedia.org/wiki/List_of_cities_in_Iran_by_province#Tehran_Province\"\n",
    "\n",
    "# # Send a GET request to the URL\n",
    "response = requests.get(url)\n",
    "\n",
    "# # Parse the HTML content using BeautifulSoup\n",
    "soup = BeautifulSoup(response.content, \"html.parser\")\n",
    "\n",
    "# #mw-content-text > div.mw-parser-output > table:nth-child(64) > tbody > tr:nth-child(1) > td:nth-child(2)\n",
    "\n",
    "# # Find the table containing the cities in Tehran province\n",
    "table = soup.find(\"table\", {\"class\": \"wikitable sortable\"})\n",
    "\n",
    "# # # Find the rows in the table\n",
    "# # rows = table.find_all(\"tr\")\n",
    "\n",
    "# # # Initialize the city_name variable to None\n",
    "# # city_name = None\n",
    "\n",
    "# # # Find the row containing Tehran city and extract the city name\n",
    "# # for row in rows:\n",
    "# #     cells = row.find_all(\"td\")\n",
    "# #     if len(cells) > 0 and cells[0].get_text().strip() == \"Tehran\":\n",
    "# #         city_name = cells[1].get_text().strip()\n",
    "# #         break\n",
    "\n",
    "# # if city_name:\n",
    "# #     print(\"City name of Tehran:\", city_name)\n",
    "# # else:\n",
    "# #     print(\"City name of Tehran not found.\")\n"
   ]
  },
  {
   "cell_type": "code",
   "execution_count": 4,
   "id": "ed6ae9f0",
   "metadata": {},
   "outputs": [],
   "source": [
    "#soup"
   ]
  },
  {
   "cell_type": "code",
   "execution_count": 5,
   "id": "f63ab59b",
   "metadata": {},
   "outputs": [
    {
     "data": {
      "text/plain": [
       "'Mohammadshahr\\n'"
      ]
     },
     "execution_count": 5,
     "metadata": {},
     "output_type": "execute_result"
    }
   ],
   "source": [
    "soup.select(\"td:nth-child(2)\")[4].get_text()"
   ]
  },
  {
   "cell_type": "code",
   "execution_count": 6,
   "id": "10d5255f",
   "metadata": {
    "scrolled": false
   },
   "outputs": [
    {
     "name": "stdout",
     "output_type": "stream",
     "text": [
      "['Karaj\\n', 'Fardis\\n', 'Kamal Shahr\\n', 'Nazarabad\\n', 'Mohammadshahr\\n', 'Hashtgerd\\n', 'Mahdasht\\n', 'Meshkin Dasht\\n', 'Chaharbagh\\n', 'Shahr-e Jadid-e Hashtgerd\\n', 'Eshtehard\\n', 'Garmdarreh\\n', 'Golsar\\n', 'Kuhsar\\n', 'Taleqan\\n', 'Asara\\n', 'Tankaman\\n', 'Ardabil\\n', 'Parsabad\\n', 'Meshginshahr\\n', 'Khalkhal\\n', 'Germi\\n', 'Bileh Savar\\n', 'Namin\\n', 'Jafarabad\\n', 'Kivi\\n', 'Anbaran\\n', 'Abi Beyglu\\n', 'Nir\\n', 'Hashatjin\\n', 'Sareyn\\n', 'Aslan Duz\\n', 'Eslamabad-e Qadim\\n', 'Tazeh Kand-e Qadim\\n', 'Qosabeh\\n', 'Lahrud\\n', 'Hir\\n', 'Kolowr\\n', 'Razey\\n', 'Tazeh Kand-e Angut\\n', 'Fakhrabad\\n', 'Kuraim\\n', 'Moradlu\\n', 'Bushehr\\n', 'Borazjan\\n', 'Bandar Ganaveh\\n', 'Khormoj\\n', 'Bandar Kangan\\n', 'Jam\\n', 'Bandar Deylam\\n', 'Bandar-e Deyr\\n', 'Ali Shahr\\n', 'Choghadak\\n', 'Ab Pakhsh\\n', 'Ahram\\n', 'Vahdatiyeh\\n', 'Kaki\\n', 'Bank\\n', 'Nakhl Taqi\\n', 'Asaluyeh\\n', 'Kharg\\n', 'Dalaki\\n', 'Sadabad\\n', 'Shabankareh\\n', 'Abdan\\n', 'Bandar Rig\\n', 'Bardestan\\n', 'Bord Khun\\n', 'Delvar\\n', 'Bandar Siraf\\n', 'Dowrahak\\n', 'Baduleh\\n', 'Tang-e Eram\\n', 'Abad\\n', 'Anarestan\\n', 'Shonbeh\\n', 'Imam Hassan\\n', 'Kalameh\\n', 'Riz\\n', 'Bushkan\\n', 'Shahr-e Kord\\n', 'Borujen\\n', 'Farsan\\n', 'Farrokh Shahr\\n', 'Lordegan\\n', 'Hafshejan\\n', 'Saman\\n', 'Junqan\\n', 'Kian\\n', 'Faradonbeh\\n', 'Ben\\n', 'Sureshjan\\n', 'Babaheydar\\n', 'Boldaji\\n', 'Ardal\\n', 'Naqneh\\n', 'Pardanjan\\n', 'Shalamzar\\n', 'Gahru\\n', 'Gujan\\n', 'Sefiddasht\\n', 'Gandoman\\n', 'Taqanak\\n', 'Sardasht\\n', 'Sudjan\\n', 'Naghan\\n', 'Dastana\\n', 'Cholicheh\\n', 'Vardanjan\\n', 'Kaj\\n', 'Dashtak\\n', 'Nafech\\n', 'Mal-e Khalifeh\\n', 'Chelgard\\n', 'Aluni\\n', 'Haruni\\n', 'Sar Khun\\n', 'Bazoft\\n', 'Manj-e Nesa\\n', 'Samsami\\n', 'Tabriz\\n', 'Maragheh\\n', 'Marand\\n', 'Ahar\\n', 'Mianeh\\n', 'Bonab\\n', 'Sahand\\n', 'Sarab\\n', 'Azarshahr\\n', 'Hadishahr\\n', 'Ajab Shir\\n', 'Sardrud\\n', 'Malekan\\n', 'Shabestar\\n', 'Bostanabad\\n', 'Hashtrud\\n', 'Osku\\n', 'Ilkhchi\\n', 'Mamqan\\n', 'Khosrowshah\\n', 'Basmenj\\n', 'Gugan\\n', 'Heris\\n', 'Yamchi\\n', 'Kaleybar\\n', 'Shendabad\\n', 'Sufian\\n', 'Jolfa\\n', 'Koshksaray\\n', 'Tasuj\\n', 'Torkamanchay\\n', 'Kolvanaq\\n', 'Leylan\\n', 'Sis\\n', 'Bakhshayesh\\n', 'Qarah Aghaj\\n', 'Mehraban\\n', 'Teymurlu\\n', 'Varzaqan\\n', 'Zarnaq\\n', 'Hurand\\n', 'Khajeh\\n', 'Benab e Marand\\n', 'Sharabian\\n', 'Vayqan\\n', 'Mobarak Shahr\\n', 'Sharafkhaneh\\n', 'Kuzeh Kanan\\n', 'Achachi\\n', 'Duzduzan\\n', 'Kharvana\\n', 'Khamaneh\\n', 'Tekmeh Dash\\n', 'Aqkand\\n', 'Abish Ahmad\\n', 'Zonuz\\n', 'Tark\\n', 'Khomarlu\\n', 'Kharaju\\n', 'Siah Rud\\n', 'Nazarkahrizi\\n', 'Jowan Qaleh\\n', 'Malek Kian\\n', 'Shahriar\\n', 'Isfahan\\n', 'Kashan\\n', 'Khomeyni Shahr\\n', 'Najafabad\\n', 'Shahin Shahr\\n', 'Shahreza\\n', 'Fuladshahr\\n', 'Baharestan\\n', 'Mobarakeh\\n', 'Aran va Bidgol [3]\\n', 'Golpayegan\\n', 'Zarrin Shahr\\n', 'Dorcheh Piaz\\n', 'Dowlatabad\\n', 'Falavarjan\\n', 'Qahderijan\\n', 'Khvorzuq\\n', 'Nain\\n', 'Semirom\\n', 'Kelishad va Sudarjan[4]\\n', 'Goldasht\\n', 'Gaz\\n', 'Abrisham\\n', 'Khansar\\n', 'Tiran\\n', 'Daran\\n', 'Sedeh Lenjan\\n', 'Dizicheh\\n', 'Varnamkhast\\n', 'Dehaqan\\n', 'Dastgerd\\n', 'Ardestan\\n', 'Chamgardan\\n', 'Badrud\\n', 'Imanshahr\\n', 'Natanz\\n', 'Chermahin\\n', 'Fereydunshahr\\n', 'Pir Bakran\\n', 'Kushk\\n', 'Varzaneh\\n', 'Nushabad\\n', 'Baharan Shahr\\n', 'Kahriz Sang\\n', 'Bagh-e Bahadoran\\n', 'Zibashahr\\n', 'Chadegan\\n', 'Talkhuncheh\\n', 'Golshahr\\n', 'Buin va Miandasht[5]\\n', 'Qahjaverestan\\n', 'Zayandeh Rud\\n', 'Gorgab\\n', 'Habibabad\\n', 'Majlesi\\n', 'Zavareh\\n', 'Dehaq\\n', 'Alavicheh\\n', 'Zazeran\\n', 'Manzariyeh\\n', 'Karkevand\\n', 'Asgharabad\\n', 'Khur\\n', 'Nasrabad\\n', 'Guged\\n', 'Harand\\n', 'Jowzdan\\n', 'Shadpurabad\\n', 'Abuzeydabad\\n', 'Sefidshahr\\n', 'Meymeh\\n', 'Barf Anbar\\n', 'Meshkat\\n', 'Hana\\n', 'Rozveh\\n', 'Komeshcheh\\n', 'Vazvan\\n', 'Kuhpayeh\\n', 'Sin\\n', 'Golshan\\n', 'Damaneh\\n', 'Sagzi\\n', 'Hasanabad\\n', 'Nikabad\\n', 'Mohammadabad\\n', 'Mahabad\\n', 'Asgaran\\n', 'Jandaq\\n', 'Baghshad\\n', 'Tudeshk\\n', 'Jowsheqan va Kamu[6]\\n', 'Ziar\\n', 'Qamsar\\n', 'Afus\\n', 'Rezvanshahr\\n', 'Ezhiyeh\\n', 'Khaledabad\\n', 'Farrokhi\\n', 'Kamu va Chugan\\n', 'Barzok\\n', 'Tarq\\n', 'Vanak\\n', 'Komeh\\n', 'Neyasar\\n', 'Bafran\\n', 'Anarak\\n', 'Lay Bid\\n', 'Shiraz\\n', 'Marvdasht\\n', 'Jahrom\\n', 'Fasa\\n', 'Kazerun\\n', 'Sadra\\n', 'Darab\\n', 'Firuzabad\\n', 'Lar\\n', 'Abadeh\\n', 'Nurabad\\n', 'Neyriz\\n', 'Eqlid\\n', 'Estahban\\n', 'Gerash\\n', 'Zarqan\\n', 'Kavar\\n', 'Lamerd\\n', 'Safashahr\\n', 'Qaemiyeh\\n', 'Hajjiabad\\n', 'Farashband\\n', 'Qir\\n', 'Evaz\\n', 'Khonj\\n', 'Kharameh\\n', 'Sarvestan\\n', 'Arsanjan\\n', 'Saadat Shahr\\n', 'Qaderabad\\n', 'Ardakan\\n', 'Dobiran\\n', 'Jannat Shahr\\n', 'Galleh Dar\\n', 'Soghad\\n', 'Meymand\\n', 'Darian\\n', 'Zahedshahr\\n', 'Khesht\\n', 'Surian\\n', 'Banaruiyeh\\n', 'Masiri\\n', 'Lapui\\n', 'Karzin\\n', 'Seyyedan\\n', 'Eshkanan\\n', 'Shahr-e Pir\\n', 'Beyram\\n', 'Bahman\\n', 'Qotbabad\\n', 'Juyom\\n', 'Abadeh Tashk\\n', 'Khur\\n', 'Mohr\\n', 'Beyza\\n', 'Latifi\\n', 'Bab Anar\\n', 'Qarah Bolagh\\n', 'Ij\\n', 'Khumeh Zar\\n', 'Konartakhteh\\n', 'Miyanshahr\\n', 'Izadkhast\\n', 'Emam Shahr\\n', 'Runiz\\n', 'Mobarakabad\\n', 'Sedeh\\n', 'Sheshdeh\\n', 'Khavaran\\n', 'Meshkan\\n', 'Varavi\\n', 'Emad Deh\\n', 'Fadami\\n', 'Alamarvdasht\\n', 'Khaneh Zenyan\\n', 'Baladeh\\n', 'Nujin\\n', 'Korehi\\n', 'Dezhkord\\n', 'Surmaq\\n', 'Mazayjan\\n', 'Dehram\\n', 'Kuhenjan\\n', 'Khuzi\\n', 'Kupon\\n', 'Now Bandegan\\n', 'Ahel\\n', 'Hesami\\n', 'Khaniman\\n', 'Do Borji\\n', 'Qatruyeh\\n', 'Nowdan\\n', 'Kamfiruz\\n', 'Hamashahr [7]\\n', 'Efzar\\n', 'Asir\\n', 'Ramjerd\\n', 'Hasanabad\\n', 'Soltan Shahr\\n', 'Madar-e Soleyman\\n', 'Baba Monir\\n', 'Duzeh\\n', 'Arad\\n', 'Fishvar\\n', 'Rasht\\n', 'Bandar-e Anzali\\n', 'Lahijan\\n', 'Langarud\\n', 'Hashtpar\\n', 'Astara\\n', \"Sowme'eh Sara\\n\", 'Astaneh-ye Ashrafiyeh\\n', 'Rudsar\\n', 'Fuman\\n', 'Khomam\\n', 'Siahkal\\n', 'Rezvanshahr\\n', 'Manjil\\n', 'Amlash\\n', 'Kiashahr\\n', 'Rostamabad\\n', 'Lowshan\\n', 'Rudbar\\n', 'Kelachay\\n', 'Masal\\n', 'Lasht-e Nesha\\n', 'Lavandevil\\n', 'Kuchesfahan\\n', 'Asalem\\n', 'Rahimabad\\n', 'Sangar\\n', 'Chaf and Chamkhaleh[8]\\n', 'Chaboksar\\n', 'Shaft\\n', 'Pareh Sar\\n', 'Luleman\\n', 'Khoshk-e Bijar\\n', 'Marjaghal\\n', 'Kumeleh\\n', 'Shalman\\n', 'Bazar Jomeh\\n', 'Chubar\\n', 'Gurab Zarmikh\\n', 'Vajargah\\n', 'Haviq\\n', 'Rudboneh\\n', 'Lisar\\n', 'Jirandeh\\n', 'Rankuh\\n', 'Ahmadsargurab\\n', 'Maklavan\\n', 'Tutkabon\\n', 'Barehsar\\n', 'Otaqvar\\n', 'Deylaman\\n', 'Masuleh\\n', 'Gorgan\\n', 'Gonbad-e Kavus\\n', 'Aliabad-e Katul\\n', 'Bandar Torkaman\\n', 'Azadshahr\\n', 'Kordkuy\\n', 'Kalaleh\\n', 'Aqqala\\n', 'Minudasht\\n', 'Galikash\\n', 'Bandar-e Gaz\\n', 'Gomishan\\n', 'Siminshahr\\n', 'Fazelabad\\n', 'Ramian\\n', 'Khan Bebin\\n', 'Daland\\n', 'Neginshahr\\n', 'Now Kandeh\\n', 'Sarkhon Kalateh\\n', 'Jelin-e Olya\\n', 'Anbar Olum\\n', 'Maraveh Tappeh\\n', 'Faraghi\\n', 'Tatar-e Olya\\n', 'Sangdevin\\n', 'Mazraeh\\n', 'Now Deh Khanduz\\n', 'Incheh Borun\\n', 'Hamadan\\n', 'Malayer\\n', 'Asadabad\\n', 'Nahavand\\n', 'Tuyserkan\\n', 'Bahar\\n', 'Kabudarahang\\n', 'Lalejin\\n', 'Famenin\\n', 'Razan\\n', 'Maryanaj\\n', 'Azandarian\\n', 'Qorveh-e Darjazin\\n', 'Juraqan\\n', 'Giyan\\n', 'Mohajeran\\n', 'Salehabad\\n', 'Sarkan\\n', 'Firuzan\\n', 'Samen\\n', 'Damaq\\n', 'Barzul\\n', 'Qahavand\\n', 'Ajin\\n', 'Shirin Su\\n', 'Jowkar\\n', 'Gol Tappeh\\n', 'Farasfaj\\n', 'Zangeneh\\n', 'Bandar Abbas\\n', 'Minab\\n', 'Qeshm\\n', 'Rudan\\n', 'Bandar Lengeh\\n', 'Kish\\n', 'Hajjiabad\\n', 'Kong\\n', 'Dargahan\\n', 'Bandar Khamir\\n', 'Jask\\n', 'Parsian\\n', 'Bastak\\n', 'Bika\\n', 'Jenah\\n', 'Hasht Bandi\\n', 'Ruydar\\n', 'Hormuz\\n', 'Suza\\n', 'Qaleh Qazi\\n', 'Sirik\\n', 'Tirur\\n', 'Dashti\\n', 'Tazian-e Pain\\n', 'Abu Musa\\n', 'Bandar Charak\\n', 'Garuk\\n', 'Ziarat-e Ali\\n', 'Fin\\n', 'Kushk-e Nar\\n', 'Takht\\n', 'Kuhestak\\n', 'Lamazan\\n', 'Senderk\\n', 'Fareghan\\n', 'Sardasht\\n', 'Gowharan\\n', 'Sargaz\\n', 'Dezghan\\n', 'Kukherd\\n', 'Ilam\\n', 'Abdanan\\n', 'Eyvan\\n', 'Dehloran\\n', 'Darreh Shahr\\n', 'Arakvaz\\n', 'Mehran\\n', 'Sarableh\\n', 'Asemanabad\\n', 'Towhid\\n', 'Chavar\\n', 'Badreh\\n', 'Shabab\\n', 'Pahleh\\n', 'Delgosha\\n', 'Murmuri\\n', 'Zarneh\\n', 'Lumar\\n', 'Musian\\n', 'Meymeh\\n', 'Sarabbagh\\n', 'Salehabad\\n', 'Mirza Hoseynabad\\n', 'Mehr\\n', 'Balavah\\n', 'Kerman\\n', 'Sirjan\\n', 'Rafsanjan\\n', 'Jiroft\\n', 'Bam\\n', 'Zarand\\n', 'Kahnuj\\n', 'Shahr-e Babak\\n', 'Baft\\n', 'Bardsir\\n', 'Baravat\\n', 'Ravar\\n', 'Mohamadabad\\n', 'Najaf Shahr\\n', 'Mahan\\n', 'Anbarabad\\n', 'Manujan\\n', 'Anar\\n', 'Rudbar\\n', 'Rabor\\n', 'Qaleh Ganj\\n', 'Kuhbanan\\n', 'Darb-e Behesht\\n', 'Baghin\\n', 'Rayen\\n', 'Negar\\n', 'Mes-e Sarcheshmeh\\n', 'Ekhtiarabad\\n', 'Golbaf\\n', 'Zeydabad\\n', 'Zangiabad\\n', 'Khursand\\n', 'Pariz\\n', 'Dehaj\\n', 'Koshkuiyeh\\n', 'Golzar\\n', 'Mohammadabad-e Gonbaki\\n', 'Fahraj\\n', 'Arzuiyeh\\n', 'Zeh-e Kalut\\n', 'Jebalbarez\\n', 'Chatrud\\n', 'Yazdan Shahr\\n', 'Nowdezh\\n', 'Faryab\\n', 'Reyhan Shahr\\n', 'Kian Shahr\\n', 'Bezenjan\\n', 'Lalehzar\\n', 'Aminshahr\\n', 'Dow Sari\\n', 'Boluk\\n', 'Bahreman\\n', 'Narmashir\\n', 'Shahdad\\n', 'Khatunabad\\n', 'Jupar\\n', 'Balvard\\n', 'Jowzam\\n', 'Kazemabad\\n', 'Khanuk\\n', 'Mohiabad\\n', 'Anduhjerd\\n', 'Khvaju Shahr\\n', 'Safayyeh\\n', 'Hamashahr\\n', 'Dashtkar\\n', 'Mardehek\\n', 'Nezamshahr\\n', 'Hanza\\n', 'Hojedk\\n', 'Kermanshah\\n', 'Eslamabad-e Gharb\\n', 'Kangavar\\n', 'Harsin\\n', 'Javanrud\\n', 'Sarpol-e Zahab\\n', 'Sonqor\\n', 'Sahneh\\n', 'Gilan-e Gharb\\n', 'Paveh\\n', 'Ravansar\\n', 'Qasr-e Shirin\\n', 'Tazehabad\\n', 'Kerend-Gharb\\n', 'Gahvareh\\n', 'Kuzaran\\n', 'Banevreh\\n', 'Gowdin\\n', 'Nowdeshah\\n', 'Shahrak-e Rijab\\n', 'Shahu\\n', 'Sarmast\\n', 'Bisotun\\n', 'Bayangan\\n', 'Nowsud\\n', 'Ezgeleh\\n', 'Homeyl\\n', 'Satar\\n', 'Robat\\n', 'Miyan Rahan\\n', 'Halashi\\n', 'Sumar\\n', 'Ahvaz\\n', 'Dezful\\n', 'Abadan\\n', 'Bandar-e Mahshahr\\n', 'Andimeshk\\n', 'Khorramshahr\\n', 'Behbahan\\n', 'Izeh\\n', 'Shushtar\\n', 'Masjed Soleyman\\n', 'Omidiyeh\\n', 'Bandar-e Emam Khomeyni\\n', 'Kut-e Abdollah [9]\\n', 'Shush\\n', 'Ramhormoz\\n', 'Shadegan\\n', 'Susangerd\\n', 'Hendijan\\n', 'Ramshir\\n', 'Sheyban\\n', 'Hamidiyeh\\n', 'Gotvand\\n', 'Bagh-e Malek\\n', 'Chamran\\n', 'Lali\\n', 'Haftkel\\n', 'Hoveyzeh\\n', 'Veys\\n', 'Mollasani\\n', 'Aghajari\\n', 'Sharaft\\n', 'Dezab\\n', 'Arvandkenar\\n', 'Shamsabad\\n', 'Mianrud\\n', 'Qaleh Tall\\n', 'Safiabad\\n', 'Horr\\n', 'Hosseinabad\\n', 'Bostan\\n', 'Chavibdeh\\n', 'Elhayi\\n', 'Seydun\\n', 'Saleh Shahr\\n', 'Sardasht\\n', 'Alvan\\n', 'Hamzeh\\n', 'Torkalaki\\n', 'Darkhoveyn\\n', 'Siah Mansur\\n', 'Jannat Makan\\n', 'Abu Homeyzeh\\n', 'Dehdez\\n', 'Cham Golak\\n', 'Mansuriyeh\\n', 'Sardaran\\n', 'Shahrak-e Babak\\n', 'Kut-e Seyyed Naim\\n', 'Tashan [10]\\n', 'Khanafereh\\n', 'Rafi\\n', 'Meydavud\\n', 'Saleh Moshatat\\n', 'Guriyeh\\n', 'Jayezan\\n', 'Saland\\n', 'Minushahr\\n', 'Qaleh-ye Khvajeh\\n', 'Bidrubeh\\n', 'Moshrageh\\n', 'Choghamish\\n', 'Hoseyniyeh\\n', 'Somaleh\\n', 'Abezhdan\\n', 'Zahreh\\n', 'Golgir\\n', 'Moqavemat\\n', 'Shirin Shahr\\n', 'Yasuj\\n', 'Dogonbadan\\n', 'Dehdasht\\n', 'Charam\\n', 'Likak\\n', 'Madavan\\n', 'Landeh\\n', 'Basht\\n', 'Sisakht\\n', 'Suq\\n', 'Dishmok\\n', 'Qaleh Raisi\\n', 'Margown\\n', 'Pataveh\\n', 'Sarfaryab\\n', 'Chitab\\n', 'Garab-e Sofla\\n', 'Sanandaj\\n', 'Saqqez\\n', 'Qorveh\\n', 'Marivan\\n', 'Baneh\\n', 'Kamyaran\\n', 'Divandarreh\\n', 'Bijar\\n', 'Dehgolan\\n', 'Kani Dinar\\n', 'Serishabad\\n', 'Delbaran\\n', 'Sarvabad\\n', 'Bolbanabad\\n', 'Yasukand\\n', 'Muchesh\\n', 'Aavraman Takht\\n', 'Dezej\\n', 'Armardeh\\n', 'Saheb\\n', 'Zarrineh\\n', 'Tup Aghaj\\n', 'Buin-e Sofla\\n', 'Shuyesheh\\n', 'Kani Sur\\n', 'Pir Taj\\n', 'Bardeh Rasheh\\n', 'Babarashani\\n', 'Chenareh\\n', 'Khorramabad\\n', 'Borujerd\\n', 'Dorud\\n', 'Kuhdasht\\n', 'Aligudarz\\n', 'Nurabad\\n', 'Azna\\n', 'Aleshtar\\n', 'Pol-e Dokhtar\\n', 'Kunani\\n', 'Mamulan\\n', 'Chaqabol\\n', 'Oshtorinan\\n', 'Garab\\n', 'Sepiddasht\\n', 'Firuzabad\\n', 'Zagheh\\n', 'Darb-e Gonbad\\n', 'Veysian\\n', 'Bayranshahr\\n', 'Sarab-e Dowreh\\n', 'Momenabad\\n', 'Chalanchulan\\n', 'Shulehabad-e Olya\\n', 'Haft Cheshmeh\\n', 'Arak\\n', 'Saveh\\n', 'Khomeyn\\n', 'Mahallat\\n', 'Delijan\\n', 'Shazand\\n', 'Mamuniyeh\\n', 'Mahajeran\\n', 'Tafresh\\n', 'Milajerd\\n', 'Ashtian\\n', 'Komijan\\n', 'Khondab\\n', 'Shahbaz\\n', 'Astaneh\\n', 'Zaviyeh\\n', 'Parandak\\n', 'Nimvar\\n', 'Farmahin\\n', 'Davudabad\\n', 'Gharqabad\\n', 'Khoshkrud\\n', 'Javersiyan\\n', 'Aveh\\n', 'Karchan\\n', 'Nowbaran\\n', 'Khenejin\\n', 'Naraq\\n', 'Tureh\\n', 'Saruq\\n', 'Hendudur\\n', 'Qurchi Bashi\\n', 'Razeghi\\n', 'Bazneh\\n', 'Sari\\n', 'Babol\\n', 'Amol\\n', 'Qaem Shahr\\n', 'Behshahr\\n', 'Chalus\\n', 'Neka\\n', 'Babolsar\\n', 'Tonekabon\\n', 'Nowshahr\\n', 'Fereydunkenar\\n', 'Ramsar\\n', 'Juybar\\n', 'Mahmudabad\\n', 'Amirkola\\n', 'Nur\\n', 'Galugah\\n', 'Ketalem and Sadat Shahr[11]\\n', 'Zirab\\n', 'Abbasabad\\n', 'Kelardasht\\n', 'Rostamkola\\n', 'Khorramabad\\n', 'Shirud\\n', 'Chamestan\\n', 'Khalil Shahr\\n', 'Hachirud\\n', 'Arateh\\n', 'Salman Shahr\\n', 'Surak\\n', 'Shirgah\\n', 'Pol Sefid\\n', 'Kiakola\\n', 'Bahnemir\\n', 'Royan\\n', 'Izadshahr\\n', 'Gatab\\n', 'Sorkhrud\\n', 'Marzanabad\\n', 'Nashtarud\\n', 'Kelarabad\\n', 'Galugah\\n', 'Kiasar\\n', 'Kalleh Bast\\n', 'Zargarmahalleh\\n', 'Pul\\n', 'Kojur\\n', 'Khush Rudpey\\n', 'Imamzadeh Abdollah\\n', 'Kuhi Kheyl\\n', 'Baladeh\\n', 'Dabudasht\\n', 'Alasht\\n', 'Rineh\\n', 'Pain Hular\\n', 'Marzikola\\n', 'Gazanak\\n', 'Farim\\n', 'Bojnord\\n', 'Shirvan\\n', 'Esfarayen\\n', 'Jajarm\\n', 'Garmeh\\n', 'Ashkhaneh\\n', 'Faruj\\n', 'Raz\\n', 'Daraq\\n', 'Ziarat\\n', 'Safiabad\\n', 'Ivar\\n', 'Shahrabad-e Khavar\\n', 'Titkanlu\\n', 'Chenaran\\n', 'Qazi\\n', 'Shoqan\\n', 'Sankhvast\\n', 'Pish Qaleh\\n', 'Lujali\\n', 'Hesar-e Garmkhan\\n', 'Qushkhaneh\\n', 'Qazvin\\n', 'Alvand\\n', 'Eqbaliyeh\\n', 'Takestan\\n', 'Abyek\\n', 'Mohammadiyeh [12]\\n', 'Bidestan\\n', 'Mahmudabad Nemuneh\\n', 'Buin Zahra\\n', 'Sharifiyeh\\n', 'Shal\\n', 'Esfarvarin\\n', 'Danesfahan\\n', 'Ziaabad\\n', 'Khorramdasht\\n', 'Narjeh\\n', 'Abgarm\\n', 'Sagzabad\\n', 'Ardak\\n', 'Avaj\\n', 'Khak-e Ali\\n', 'Moallem Kalayeh\\n', 'Kuhin\\n', 'Razmian\\n', 'Sirdan\\n', 'Qom\\n', 'Qanavat\\n', 'Jafariyeh\\n', 'Dastjerd\\n', 'Kahak\\n', 'Salafchegan\\n', 'Mashhad\\n', 'Nishapur\\n', 'Sabzevar\\n', 'Torbat-e Heydarieh\\n', 'Kashmar\\n', 'Quchan\\n', 'Torbat-e Jam\\n', 'Taybad\\n', 'Chenaran\\n', 'Sarakhs\\n', 'Gonabad\\n', 'Fariman\\n', 'Shahr Jadid-e Golbahar\\n', 'Dargaz\\n', 'Khaf\\n', 'Bardaskan\\n', 'Torqabeh\\n', 'Feyzabad\\n', 'Neqab\\n', 'Shandiz\\n', 'Kharv\\n', 'Khalilabad\\n', 'Sangan\\n', 'Bajestan\\n', 'Kariz\\n', 'Mashhad Rizeh\\n', 'Dowlatabad\\n', 'Bakharz\\n', 'Razaviyeh\\n', 'Salehabad\\n', 'Farhadgerd\\n', 'Golmakan\\n', 'Ahmadabad-e Sowlat\\n', 'Nasrabad\\n', 'Nilshahr\\n', 'Nashtifan\\n', 'Kalat\\n', 'Jangal\\n', 'Salami\\n', 'Joghatai\\n', 'Anabad\\n', 'Kondor\\n', 'Roshtkhar\\n', 'Firuzeh\\n', 'Darrud\\n', 'Sefid Sang\\n', 'Soltanabad\\n', 'Rivash\\n', 'Bidokht\\n', 'Qasemabad\\n', 'Qalandarabad\\n', 'Kakhk\\n', 'Rud Ab\\n', 'Bar\\n', 'Shahr-e Zow\\n', 'Bayg\\n', 'Yunesi\\n', 'Shadmehr\\n', 'Kadkan\\n', 'Qadamgah\\n', 'Davarzan\\n', 'Now Khandan\\n', 'Chapeshlu\\n', 'Sheshtomad\\n', 'Shahrabad\\n', 'Lotfabad\\n', 'Robat-e Sang\\n', 'Chekneh\\n', 'Eshqabad\\n', 'Hemmatabad\\n', 'Malekabad\\n', 'Mazdavand\\n', 'Bajgiran\\n', 'Semnan\\n', 'Shahrud\\n', 'Damghan\\n', 'Garmsar\\n', 'Mehdishahr\\n', 'Aradan\\n', 'Eyvanki\\n', 'Bastam\\n', 'Sorkheh\\n', 'Shahmirzad\\n', 'Mojen\\n', 'Kalateh Khij\\n', 'Darjazin\\n', 'Meyami\\n', 'Kalateh Rudbar\\n', 'Dibaj\\n', 'Beyarjomand\\n', 'Amiriyeh\\n', 'Rudian\\n', 'Kohanabad\\n', 'Zahedan\\n', 'Zabol\\n', 'Iranshahr\\n', 'Chabahar\\n', 'Saravan\\n', 'Khash\\n', 'Konarak\\n', 'Jaleq\\n', 'Nik Shahr\\n', 'Pishin\\n', 'Zehak\\n', 'Qasr-e Qand\\n', 'Suran\\n', 'Fanuj\\n', 'Bampur\\n', 'Zaboli\\n', 'Mohamadan\\n', 'Galmurti\\n', 'Rasak\\n', 'Mirjaveh\\n', 'Dust Mohammad\\n', 'Bent\\n', 'Nosratabad\\n', 'Bazman\\n', 'Negur\\n', 'Mohamadi\\n', 'Bonjar\\n', 'Gosht\\n', 'Ali Akbar\\n', 'Espakeh\\n', 'Zarabad\\n', 'Adimi\\n', 'Nukabad\\n', 'Mohammadabad\\n', 'Sirkan\\n', 'Hiduj\\n', 'Sarbaz\\n', 'Ramshar\\n', 'Birjand\\n', 'Qaen\\n', 'Tabas\\n', 'Ferdows\\n', 'Nehbandan\\n', 'Boshruyeh\\n', 'Sarayan\\n', 'Sarbisheh\\n', 'Eslamiyeh\\n', 'Ayask\\n', 'Khezri Dasht Beyaz\\n', 'Eshqabad\\n', 'Hajjiabad\\n', 'Asadiyeh\\n', 'Seh Qaleh\\n', 'Nimbeluk\\n', 'Tabas-e Masina\\n', 'Khusf\\n', 'Esfeden\\n', 'Arianshahr\\n', 'Deyhuk\\n', 'Mud\\n', 'Shusef\\n', 'Eresk\\n', 'Qohestan\\n', 'Gazik\\n', 'Zohan\\n', 'Mohammadshahr\\n', 'Tehran [13]\\n', 'Eslamshahr\\n', 'Golestan\\n', 'Qods\\n', 'Malard\\n', 'Varamin\\n', 'Shahriar\\n', 'Qarchak\\n', 'Nasimshahr\\n', 'Pakdasht\\n', 'Pardis\\n', 'Andisheh\\n', 'Robat Karim\\n', 'Parand\\n', 'Salehieh\\n', 'Damavand\\n', 'Baqershahr\\n', 'Baghestan\\n', 'Bumahen\\n', 'Chahardangeh\\n', 'Pishva\\n', 'Sabashahr\\n', 'Kahrizak\\n', 'Vahidieh\\n', 'Nasirshahr\\n', 'Ferdowsieh\\n', 'Hasanabad\\n', 'Safadasht\\n', 'Rudehen\\n', 'Shahedshahr\\n', 'Ferunabad\\n', 'Lavasan\\n', 'Firuzkuh\\n', 'Ahmadabad-e Mostowfi\\n', 'Absard\\n', 'Sharifabad\\n', 'Fasham\\n', 'Javadabad\\n', 'Shemshak[14]\\n', 'Kilan\\n', 'Abali\\n', 'Arjomand\\n', 'Urmia\\n', 'Khoy\\n', 'Bukan\\n', 'Mahabad\\n', 'Miandoab\\n', 'Salmas\\n', 'Piranshahr\\n', 'Naqadeh\\n', 'Takab\\n', 'Maku\\n', 'Oshnavieh\\n', 'Sardasht\\n', 'Shahin Dezh\\n', 'Qarah Zia od Din\\n', 'Showt\\n', 'Rabat\\n', 'Siah Cheshmeh\\n', 'Poldasht\\n', 'Bazargan\\n', 'Tazeh Shahr\\n', 'Mohammadyar\\n', 'Chahar Borj\\n', 'Firuraq\\n', 'Dizaj Diz\\n', 'Nushin\\n', 'Mahmudabad\\n', 'Mirabad\\n', 'Qatur\\n', 'Baruq\\n', 'Keshavarz\\n', 'Gerd Kashaneh\\n', 'Ivughli\\n', 'Nazok-e Olya\\n', 'Qushchi\\n', 'Nalus\\n', 'Marganlar\\n', 'Avajiq\\n', 'Serow\\n', 'Silvaneh\\n', 'Simmineh\\n', 'Zurabad\\n', 'Khalifan\\n', 'Yazd\\n', 'Meybod\\n', 'Ardakan\\n', 'Bafq\\n', 'Hamidiya\\n', 'Mehriz\\n', 'Abarkuh\\n', 'Taft\\n', 'Shahediyeh\\n', 'Ashkezar\\n', 'Herat\\n', 'Zarach\\n', 'Marvast\\n', 'Mehrdasht\\n', 'Behabad\\n', 'Bafruiyeh\\n', 'Ahmadabad\\n', 'Nadushan\\n', 'Aqda\\n', 'Nir\\n', 'Khezrabad\\n', 'Rezvanshahr\\n', 'Zanjan\\n', 'Abhar\\n', 'Khorramdarreh\\n', 'Qeydar\\n', 'Hidaj\\n', 'Sain Qaleh\\n', 'Soltaniyeh\\n', 'Sojas\\n', 'Sohrevard\\n', 'Zarrin Rud\\n', 'Ab Bar\\n', 'Mah Neshan\\n', 'Garmab\\n', 'Dandi\\n', 'Nurabad\\n', 'Karasf\\n', 'Zarrinabad\\n', 'Armaghankhaneh\\n', 'Chavarzaq\\n', 'Halab\\n', 'Nik Pey\\n', '\\nAfghanistan\\nArmenia\\nAzerbaijan\\nBahrain\\nBangladesh\\nBhutan\\nBrunei\\nCambodia\\nChina\\nCyprus\\nEast Timor (Timor-Leste)\\nEgypt\\nGeorgia\\nIndia\\nIndonesia\\nIran\\nIraq\\nIsrael\\nJapan\\nJordan\\nKazakhstan\\nNorth Korea\\nSouth Korea\\nKuwait\\nKyrgyzstan\\nLaos\\nLebanon\\nMalaysia\\nMaldives\\nMongolia\\nMyanmar\\nNepal\\nOman\\nPakistan\\nPhilippines\\nQatar\\nRussia\\nSaudi Arabia\\nSingapore\\nSri Lanka\\nSyria\\nTajikistan\\nThailand\\nTurkey\\nTurkmenistan\\nUnited Arab Emirates\\nUzbekistan\\nVietnam\\nYemen\\n', '\\nAbkhazia\\nArtsakh\\nNorthern Cyprus\\nPalestine\\nSouth Ossetia\\nTaiwan\\n', '\\nBritish Indian Ocean Territory\\nChristmas Island\\nCocos (Keeling) Islands\\nHong Kong\\nMacau\\n']\n"
     ]
    }
   ],
   "source": [
    "#initialize empty lists\n",
    "city = []\n",
    "\n",
    "\n",
    "\n",
    "# define the number of iterations of our for loop\n",
    "# by checking how many elements are in the retrieved result set\n",
    "# (this is equivalent but more robust than just explicitly defining 250 iterations)\n",
    "num_iter = len(soup.select(\"td:nth-child(2)\"))\n",
    "\n",
    "tClist = soup.select(\"td:nth-child(2)\")\n",
    "#spanlist = soup.select(\"td.titleColumn span.secondaryInfo\")\n",
    "# iterate through the result set and retrive all the data\n",
    "for i in range(num_iter):\n",
    "    city.append(tClist[i].get_text())\n",
    "#     dir_stars.append(tClist[i][\"city\"])\n",
    "#     year.append(spanlist[i].get_text())\n",
    "\n",
    "print(city)\n",
    "# print(dir_stars)\n",
    "# print(year)\n"
   ]
  },
  {
   "cell_type": "code",
   "execution_count": 7,
   "id": "ec1fd70b",
   "metadata": {},
   "outputs": [],
   "source": [
    "# each list becomes a column\n",
    "city_name = pd.DataFrame({\"city\":city})"
   ]
  },
  {
   "cell_type": "code",
   "execution_count": 8,
   "id": "e63f3303",
   "metadata": {
    "scrolled": true
   },
   "outputs": [
    {
     "data": {
      "text/html": [
       "<div>\n",
       "<style scoped>\n",
       "    .dataframe tbody tr th:only-of-type {\n",
       "        vertical-align: middle;\n",
       "    }\n",
       "\n",
       "    .dataframe tbody tr th {\n",
       "        vertical-align: top;\n",
       "    }\n",
       "\n",
       "    .dataframe thead th {\n",
       "        text-align: right;\n",
       "    }\n",
       "</style>\n",
       "<table border=\"1\" class=\"dataframe\">\n",
       "  <thead>\n",
       "    <tr style=\"text-align: right;\">\n",
       "      <th></th>\n",
       "      <th>city</th>\n",
       "    </tr>\n",
       "  </thead>\n",
       "  <tbody>\n",
       "    <tr>\n",
       "      <th>0</th>\n",
       "      <td>Karaj\\n</td>\n",
       "    </tr>\n",
       "    <tr>\n",
       "      <th>1</th>\n",
       "      <td>Fardis\\n</td>\n",
       "    </tr>\n",
       "    <tr>\n",
       "      <th>2</th>\n",
       "      <td>Kamal Shahr\\n</td>\n",
       "    </tr>\n",
       "    <tr>\n",
       "      <th>3</th>\n",
       "      <td>Nazarabad\\n</td>\n",
       "    </tr>\n",
       "    <tr>\n",
       "      <th>4</th>\n",
       "      <td>Mohammadshahr\\n</td>\n",
       "    </tr>\n",
       "    <tr>\n",
       "      <th>...</th>\n",
       "      <td>...</td>\n",
       "    </tr>\n",
       "    <tr>\n",
       "      <th>1251</th>\n",
       "      <td>Halab\\n</td>\n",
       "    </tr>\n",
       "    <tr>\n",
       "      <th>1252</th>\n",
       "      <td>Nik Pey\\n</td>\n",
       "    </tr>\n",
       "    <tr>\n",
       "      <th>1253</th>\n",
       "      <td>\\nAfghanistan\\nArmenia\\nAzerbaijan\\nBahrain\\nB...</td>\n",
       "    </tr>\n",
       "    <tr>\n",
       "      <th>1254</th>\n",
       "      <td>\\nAbkhazia\\nArtsakh\\nNorthern Cyprus\\nPalestin...</td>\n",
       "    </tr>\n",
       "    <tr>\n",
       "      <th>1255</th>\n",
       "      <td>\\nBritish Indian Ocean Territory\\nChristmas Is...</td>\n",
       "    </tr>\n",
       "  </tbody>\n",
       "</table>\n",
       "<p>1256 rows × 1 columns</p>\n",
       "</div>"
      ],
      "text/plain": [
       "                                                   city\n",
       "0                                               Karaj\\n\n",
       "1                                              Fardis\\n\n",
       "2                                         Kamal Shahr\\n\n",
       "3                                           Nazarabad\\n\n",
       "4                                       Mohammadshahr\\n\n",
       "...                                                 ...\n",
       "1251                                            Halab\\n\n",
       "1252                                          Nik Pey\\n\n",
       "1253  \\nAfghanistan\\nArmenia\\nAzerbaijan\\nBahrain\\nB...\n",
       "1254  \\nAbkhazia\\nArtsakh\\nNorthern Cyprus\\nPalestin...\n",
       "1255  \\nBritish Indian Ocean Territory\\nChristmas Is...\n",
       "\n",
       "[1256 rows x 1 columns]"
      ]
     },
     "execution_count": 8,
     "metadata": {},
     "output_type": "execute_result"
    }
   ],
   "source": [
    "city_name"
   ]
  },
  {
   "cell_type": "code",
   "execution_count": 9,
   "id": "b64b88e2",
   "metadata": {},
   "outputs": [
    {
     "data": {
      "text/plain": [
       "city         \n",
       "Sardasht\\n       4\n",
       "Rezvanshahr\\n    3\n",
       "Hasanabad\\n      3\n",
       "Hajjiabad\\n      3\n",
       "Salehabad\\n      3\n",
       "                ..\n",
       "Golgir\\n         1\n",
       "Golestan\\n       1\n",
       "Goldasht\\n       1\n",
       "Golbaf\\n         1\n",
       "Zurabad\\n        1\n",
       "Length: 1224, dtype: int64"
      ]
     },
     "execution_count": 9,
     "metadata": {},
     "output_type": "execute_result"
    }
   ],
   "source": [
    "#checking data \n",
    "city_name.value_counts()"
   ]
  },
  {
   "cell_type": "code",
   "execution_count": 10,
   "id": "8dfd3b8b",
   "metadata": {},
   "outputs": [],
   "source": [
    "# Remove the newline characters from the city names\n",
    "city_name['city'] = city_name['city'].str.replace('\\n', '')\n",
    "    \n"
   ]
  },
  {
   "cell_type": "code",
   "execution_count": 11,
   "id": "e6b069e9",
   "metadata": {},
   "outputs": [
    {
     "data": {
      "text/plain": [
       "city       \n",
       "Sardasht       4\n",
       "Rezvanshahr    3\n",
       "Hasanabad      3\n",
       "Hajjiabad      3\n",
       "Salehabad      3\n",
       "              ..\n",
       "Golgir         1\n",
       "Golestan       1\n",
       "Goldasht       1\n",
       "Golbaf         1\n",
       "Zurabad        1\n",
       "Length: 1224, dtype: int64"
      ]
     },
     "execution_count": 11,
     "metadata": {},
     "output_type": "execute_result"
    }
   ],
   "source": [
    "city_name.value_counts()"
   ]
  },
  {
   "cell_type": "code",
   "execution_count": 12,
   "id": "94e8df7c",
   "metadata": {},
   "outputs": [
    {
     "data": {
      "text/html": [
       "<div>\n",
       "<style scoped>\n",
       "    .dataframe tbody tr th:only-of-type {\n",
       "        vertical-align: middle;\n",
       "    }\n",
       "\n",
       "    .dataframe tbody tr th {\n",
       "        vertical-align: top;\n",
       "    }\n",
       "\n",
       "    .dataframe thead th {\n",
       "        text-align: right;\n",
       "    }\n",
       "</style>\n",
       "<table border=\"1\" class=\"dataframe\">\n",
       "  <thead>\n",
       "    <tr style=\"text-align: right;\">\n",
       "      <th></th>\n",
       "      <th>city</th>\n",
       "    </tr>\n",
       "  </thead>\n",
       "  <tbody>\n",
       "    <tr>\n",
       "      <th>1156</th>\n",
       "      <td>Ferunabad</td>\n",
       "    </tr>\n",
       "    <tr>\n",
       "      <th>1157</th>\n",
       "      <td>Lavasan</td>\n",
       "    </tr>\n",
       "    <tr>\n",
       "      <th>1158</th>\n",
       "      <td>Firuzkuh</td>\n",
       "    </tr>\n",
       "    <tr>\n",
       "      <th>1159</th>\n",
       "      <td>Ahmadabad-e Mostowfi</td>\n",
       "    </tr>\n",
       "    <tr>\n",
       "      <th>1160</th>\n",
       "      <td>Absard</td>\n",
       "    </tr>\n",
       "    <tr>\n",
       "      <th>...</th>\n",
       "      <td>...</td>\n",
       "    </tr>\n",
       "    <tr>\n",
       "      <th>1251</th>\n",
       "      <td>Halab</td>\n",
       "    </tr>\n",
       "    <tr>\n",
       "      <th>1252</th>\n",
       "      <td>Nik Pey</td>\n",
       "    </tr>\n",
       "    <tr>\n",
       "      <th>1253</th>\n",
       "      <td>AfghanistanArmeniaAzerbaijanBahrainBangladeshB...</td>\n",
       "    </tr>\n",
       "    <tr>\n",
       "      <th>1254</th>\n",
       "      <td>AbkhaziaArtsakhNorthern CyprusPalestineSouth O...</td>\n",
       "    </tr>\n",
       "    <tr>\n",
       "      <th>1255</th>\n",
       "      <td>British Indian Ocean TerritoryChristmas Island...</td>\n",
       "    </tr>\n",
       "  </tbody>\n",
       "</table>\n",
       "<p>100 rows × 1 columns</p>\n",
       "</div>"
      ],
      "text/plain": [
       "                                                   city\n",
       "1156                                          Ferunabad\n",
       "1157                                            Lavasan\n",
       "1158                                           Firuzkuh\n",
       "1159                               Ahmadabad-e Mostowfi\n",
       "1160                                             Absard\n",
       "...                                                 ...\n",
       "1251                                              Halab\n",
       "1252                                            Nik Pey\n",
       "1253  AfghanistanArmeniaAzerbaijanBahrainBangladeshB...\n",
       "1254  AbkhaziaArtsakhNorthern CyprusPalestineSouth O...\n",
       "1255  British Indian Ocean TerritoryChristmas Island...\n",
       "\n",
       "[100 rows x 1 columns]"
      ]
     },
     "execution_count": 12,
     "metadata": {},
     "output_type": "execute_result"
    }
   ],
   "source": [
    "city_name.tail(100)"
   ]
  },
  {
   "cell_type": "code",
   "execution_count": 13,
   "id": "dcdb4a97",
   "metadata": {},
   "outputs": [],
   "source": [
    "# Drop rows 1253 to 1255 (inclusive)\n",
    "city_name =city_name.drop(city_name.index[1253:1256])"
   ]
  },
  {
   "cell_type": "code",
   "execution_count": 14,
   "id": "7a64b713",
   "metadata": {},
   "outputs": [
    {
     "data": {
      "text/html": [
       "<div>\n",
       "<style scoped>\n",
       "    .dataframe tbody tr th:only-of-type {\n",
       "        vertical-align: middle;\n",
       "    }\n",
       "\n",
       "    .dataframe tbody tr th {\n",
       "        vertical-align: top;\n",
       "    }\n",
       "\n",
       "    .dataframe thead th {\n",
       "        text-align: right;\n",
       "    }\n",
       "</style>\n",
       "<table border=\"1\" class=\"dataframe\">\n",
       "  <thead>\n",
       "    <tr style=\"text-align: right;\">\n",
       "      <th></th>\n",
       "      <th>city</th>\n",
       "    </tr>\n",
       "  </thead>\n",
       "  <tbody>\n",
       "    <tr>\n",
       "      <th>0</th>\n",
       "      <td>Karaj</td>\n",
       "    </tr>\n",
       "    <tr>\n",
       "      <th>1</th>\n",
       "      <td>Fardis</td>\n",
       "    </tr>\n",
       "    <tr>\n",
       "      <th>2</th>\n",
       "      <td>Kamal Shahr</td>\n",
       "    </tr>\n",
       "    <tr>\n",
       "      <th>3</th>\n",
       "      <td>Nazarabad</td>\n",
       "    </tr>\n",
       "    <tr>\n",
       "      <th>4</th>\n",
       "      <td>Mohammadshahr</td>\n",
       "    </tr>\n",
       "    <tr>\n",
       "      <th>...</th>\n",
       "      <td>...</td>\n",
       "    </tr>\n",
       "    <tr>\n",
       "      <th>1248</th>\n",
       "      <td>Zarrinabad</td>\n",
       "    </tr>\n",
       "    <tr>\n",
       "      <th>1249</th>\n",
       "      <td>Armaghankhaneh</td>\n",
       "    </tr>\n",
       "    <tr>\n",
       "      <th>1250</th>\n",
       "      <td>Chavarzaq</td>\n",
       "    </tr>\n",
       "    <tr>\n",
       "      <th>1251</th>\n",
       "      <td>Halab</td>\n",
       "    </tr>\n",
       "    <tr>\n",
       "      <th>1252</th>\n",
       "      <td>Nik Pey</td>\n",
       "    </tr>\n",
       "  </tbody>\n",
       "</table>\n",
       "<p>1253 rows × 1 columns</p>\n",
       "</div>"
      ],
      "text/plain": [
       "                city\n",
       "0              Karaj\n",
       "1             Fardis\n",
       "2        Kamal Shahr\n",
       "3          Nazarabad\n",
       "4      Mohammadshahr\n",
       "...              ...\n",
       "1248      Zarrinabad\n",
       "1249  Armaghankhaneh\n",
       "1250       Chavarzaq\n",
       "1251           Halab\n",
       "1252         Nik Pey\n",
       "\n",
       "[1253 rows x 1 columns]"
      ]
     },
     "execution_count": 14,
     "metadata": {},
     "output_type": "execute_result"
    }
   ],
   "source": [
    "city_name"
   ]
  },
  {
   "cell_type": "code",
   "execution_count": 15,
   "id": "6b670350",
   "metadata": {},
   "outputs": [],
   "source": [
    "# loading dataset from local directory.\n",
    "df = pd.read_csv('churn_telo.csv')"
   ]
  },
  {
   "cell_type": "code",
   "execution_count": 16,
   "id": "0ea01504",
   "metadata": {},
   "outputs": [
    {
     "data": {
      "text/plain": [
       "(7043, 21)"
      ]
     },
     "execution_count": 16,
     "metadata": {},
     "output_type": "execute_result"
    }
   ],
   "source": [
    "#our dataset has 7043 rows and 21 columns\n",
    "df.shape"
   ]
  },
  {
   "cell_type": "code",
   "execution_count": 17,
   "id": "37e3244e",
   "metadata": {},
   "outputs": [
    {
     "data": {
      "text/html": [
       "<div>\n",
       "<style scoped>\n",
       "    .dataframe tbody tr th:only-of-type {\n",
       "        vertical-align: middle;\n",
       "    }\n",
       "\n",
       "    .dataframe tbody tr th {\n",
       "        vertical-align: top;\n",
       "    }\n",
       "\n",
       "    .dataframe thead th {\n",
       "        text-align: right;\n",
       "    }\n",
       "</style>\n",
       "<table border=\"1\" class=\"dataframe\">\n",
       "  <thead>\n",
       "    <tr style=\"text-align: right;\">\n",
       "      <th></th>\n",
       "      <th>customerID</th>\n",
       "      <th>gender</th>\n",
       "      <th>SeniorCitizen</th>\n",
       "      <th>Partner</th>\n",
       "      <th>Dependents</th>\n",
       "      <th>tenure</th>\n",
       "      <th>PhoneService</th>\n",
       "      <th>MultipleLines</th>\n",
       "      <th>InternetService</th>\n",
       "      <th>OnlineSecurity</th>\n",
       "      <th>...</th>\n",
       "      <th>DeviceProtection</th>\n",
       "      <th>TechSupport</th>\n",
       "      <th>StreamingTV</th>\n",
       "      <th>StreamingMovies</th>\n",
       "      <th>Contract</th>\n",
       "      <th>PaperlessBilling</th>\n",
       "      <th>PaymentMethod</th>\n",
       "      <th>MonthlyCharges</th>\n",
       "      <th>TotalCharges</th>\n",
       "      <th>Churn</th>\n",
       "    </tr>\n",
       "  </thead>\n",
       "  <tbody>\n",
       "    <tr>\n",
       "      <th>0</th>\n",
       "      <td>7590-VHVEG</td>\n",
       "      <td>Female</td>\n",
       "      <td>0</td>\n",
       "      <td>Yes</td>\n",
       "      <td>No</td>\n",
       "      <td>1</td>\n",
       "      <td>No</td>\n",
       "      <td>No phone service</td>\n",
       "      <td>DSL</td>\n",
       "      <td>No</td>\n",
       "      <td>...</td>\n",
       "      <td>No</td>\n",
       "      <td>No</td>\n",
       "      <td>No</td>\n",
       "      <td>No</td>\n",
       "      <td>Month-to-month</td>\n",
       "      <td>Yes</td>\n",
       "      <td>Electronic check</td>\n",
       "      <td>29.85</td>\n",
       "      <td>29.85</td>\n",
       "      <td>No</td>\n",
       "    </tr>\n",
       "    <tr>\n",
       "      <th>1</th>\n",
       "      <td>5575-GNVDE</td>\n",
       "      <td>Male</td>\n",
       "      <td>0</td>\n",
       "      <td>No</td>\n",
       "      <td>No</td>\n",
       "      <td>34</td>\n",
       "      <td>Yes</td>\n",
       "      <td>No</td>\n",
       "      <td>DSL</td>\n",
       "      <td>Yes</td>\n",
       "      <td>...</td>\n",
       "      <td>Yes</td>\n",
       "      <td>No</td>\n",
       "      <td>No</td>\n",
       "      <td>No</td>\n",
       "      <td>One year</td>\n",
       "      <td>No</td>\n",
       "      <td>Mailed check</td>\n",
       "      <td>56.95</td>\n",
       "      <td>1889.5</td>\n",
       "      <td>No</td>\n",
       "    </tr>\n",
       "    <tr>\n",
       "      <th>2</th>\n",
       "      <td>3668-QPYBK</td>\n",
       "      <td>Male</td>\n",
       "      <td>0</td>\n",
       "      <td>No</td>\n",
       "      <td>No</td>\n",
       "      <td>2</td>\n",
       "      <td>Yes</td>\n",
       "      <td>No</td>\n",
       "      <td>DSL</td>\n",
       "      <td>Yes</td>\n",
       "      <td>...</td>\n",
       "      <td>No</td>\n",
       "      <td>No</td>\n",
       "      <td>No</td>\n",
       "      <td>No</td>\n",
       "      <td>Month-to-month</td>\n",
       "      <td>Yes</td>\n",
       "      <td>Mailed check</td>\n",
       "      <td>53.85</td>\n",
       "      <td>108.15</td>\n",
       "      <td>Yes</td>\n",
       "    </tr>\n",
       "    <tr>\n",
       "      <th>3</th>\n",
       "      <td>7795-CFOCW</td>\n",
       "      <td>Male</td>\n",
       "      <td>0</td>\n",
       "      <td>No</td>\n",
       "      <td>No</td>\n",
       "      <td>45</td>\n",
       "      <td>No</td>\n",
       "      <td>No phone service</td>\n",
       "      <td>DSL</td>\n",
       "      <td>Yes</td>\n",
       "      <td>...</td>\n",
       "      <td>Yes</td>\n",
       "      <td>Yes</td>\n",
       "      <td>No</td>\n",
       "      <td>No</td>\n",
       "      <td>One year</td>\n",
       "      <td>No</td>\n",
       "      <td>Bank transfer (automatic)</td>\n",
       "      <td>42.30</td>\n",
       "      <td>1840.75</td>\n",
       "      <td>No</td>\n",
       "    </tr>\n",
       "    <tr>\n",
       "      <th>4</th>\n",
       "      <td>9237-HQITU</td>\n",
       "      <td>Female</td>\n",
       "      <td>0</td>\n",
       "      <td>No</td>\n",
       "      <td>No</td>\n",
       "      <td>2</td>\n",
       "      <td>Yes</td>\n",
       "      <td>No</td>\n",
       "      <td>Fiber optic</td>\n",
       "      <td>No</td>\n",
       "      <td>...</td>\n",
       "      <td>No</td>\n",
       "      <td>No</td>\n",
       "      <td>No</td>\n",
       "      <td>No</td>\n",
       "      <td>Month-to-month</td>\n",
       "      <td>Yes</td>\n",
       "      <td>Electronic check</td>\n",
       "      <td>70.70</td>\n",
       "      <td>151.65</td>\n",
       "      <td>Yes</td>\n",
       "    </tr>\n",
       "  </tbody>\n",
       "</table>\n",
       "<p>5 rows × 21 columns</p>\n",
       "</div>"
      ],
      "text/plain": [
       "   customerID  gender  SeniorCitizen Partner Dependents  tenure PhoneService  \\\n",
       "0  7590-VHVEG  Female              0     Yes         No       1           No   \n",
       "1  5575-GNVDE    Male              0      No         No      34          Yes   \n",
       "2  3668-QPYBK    Male              0      No         No       2          Yes   \n",
       "3  7795-CFOCW    Male              0      No         No      45           No   \n",
       "4  9237-HQITU  Female              0      No         No       2          Yes   \n",
       "\n",
       "      MultipleLines InternetService OnlineSecurity  ... DeviceProtection  \\\n",
       "0  No phone service             DSL             No  ...               No   \n",
       "1                No             DSL            Yes  ...              Yes   \n",
       "2                No             DSL            Yes  ...               No   \n",
       "3  No phone service             DSL            Yes  ...              Yes   \n",
       "4                No     Fiber optic             No  ...               No   \n",
       "\n",
       "  TechSupport StreamingTV StreamingMovies        Contract PaperlessBilling  \\\n",
       "0          No          No              No  Month-to-month              Yes   \n",
       "1          No          No              No        One year               No   \n",
       "2          No          No              No  Month-to-month              Yes   \n",
       "3         Yes          No              No        One year               No   \n",
       "4          No          No              No  Month-to-month              Yes   \n",
       "\n",
       "               PaymentMethod MonthlyCharges  TotalCharges Churn  \n",
       "0           Electronic check          29.85         29.85    No  \n",
       "1               Mailed check          56.95        1889.5    No  \n",
       "2               Mailed check          53.85        108.15   Yes  \n",
       "3  Bank transfer (automatic)          42.30       1840.75    No  \n",
       "4           Electronic check          70.70        151.65   Yes  \n",
       "\n",
       "[5 rows x 21 columns]"
      ]
     },
     "execution_count": 17,
     "metadata": {},
     "output_type": "execute_result"
    }
   ],
   "source": [
    " # Reading a dataset using head function.\n",
    "df.head()"
   ]
  },
  {
   "cell_type": "code",
   "execution_count": 18,
   "id": "606613b8",
   "metadata": {},
   "outputs": [
    {
     "data": {
      "text/html": [
       "<div>\n",
       "<style scoped>\n",
       "    .dataframe tbody tr th:only-of-type {\n",
       "        vertical-align: middle;\n",
       "    }\n",
       "\n",
       "    .dataframe tbody tr th {\n",
       "        vertical-align: top;\n",
       "    }\n",
       "\n",
       "    .dataframe thead th {\n",
       "        text-align: right;\n",
       "    }\n",
       "</style>\n",
       "<table border=\"1\" class=\"dataframe\">\n",
       "  <thead>\n",
       "    <tr style=\"text-align: right;\">\n",
       "      <th></th>\n",
       "      <th>customerID</th>\n",
       "      <th>gender</th>\n",
       "      <th>SeniorCitizen</th>\n",
       "      <th>Partner</th>\n",
       "      <th>Dependents</th>\n",
       "      <th>tenure</th>\n",
       "      <th>PhoneService</th>\n",
       "      <th>MultipleLines</th>\n",
       "      <th>InternetService</th>\n",
       "      <th>OnlineSecurity</th>\n",
       "      <th>...</th>\n",
       "      <th>DeviceProtection</th>\n",
       "      <th>TechSupport</th>\n",
       "      <th>StreamingTV</th>\n",
       "      <th>StreamingMovies</th>\n",
       "      <th>Contract</th>\n",
       "      <th>PaperlessBilling</th>\n",
       "      <th>PaymentMethod</th>\n",
       "      <th>MonthlyCharges</th>\n",
       "      <th>TotalCharges</th>\n",
       "      <th>Churn</th>\n",
       "    </tr>\n",
       "  </thead>\n",
       "  <tbody>\n",
       "    <tr>\n",
       "      <th>7038</th>\n",
       "      <td>6840-RESVB</td>\n",
       "      <td>Male</td>\n",
       "      <td>0</td>\n",
       "      <td>Yes</td>\n",
       "      <td>Yes</td>\n",
       "      <td>24</td>\n",
       "      <td>Yes</td>\n",
       "      <td>Yes</td>\n",
       "      <td>DSL</td>\n",
       "      <td>Yes</td>\n",
       "      <td>...</td>\n",
       "      <td>Yes</td>\n",
       "      <td>Yes</td>\n",
       "      <td>Yes</td>\n",
       "      <td>Yes</td>\n",
       "      <td>One year</td>\n",
       "      <td>Yes</td>\n",
       "      <td>Mailed check</td>\n",
       "      <td>84.80</td>\n",
       "      <td>1990.5</td>\n",
       "      <td>No</td>\n",
       "    </tr>\n",
       "    <tr>\n",
       "      <th>7039</th>\n",
       "      <td>2234-XADUH</td>\n",
       "      <td>Female</td>\n",
       "      <td>0</td>\n",
       "      <td>Yes</td>\n",
       "      <td>Yes</td>\n",
       "      <td>72</td>\n",
       "      <td>Yes</td>\n",
       "      <td>Yes</td>\n",
       "      <td>Fiber optic</td>\n",
       "      <td>No</td>\n",
       "      <td>...</td>\n",
       "      <td>Yes</td>\n",
       "      <td>No</td>\n",
       "      <td>Yes</td>\n",
       "      <td>Yes</td>\n",
       "      <td>One year</td>\n",
       "      <td>Yes</td>\n",
       "      <td>Credit card (automatic)</td>\n",
       "      <td>103.20</td>\n",
       "      <td>7362.9</td>\n",
       "      <td>No</td>\n",
       "    </tr>\n",
       "    <tr>\n",
       "      <th>7040</th>\n",
       "      <td>4801-JZAZL</td>\n",
       "      <td>Female</td>\n",
       "      <td>0</td>\n",
       "      <td>Yes</td>\n",
       "      <td>Yes</td>\n",
       "      <td>11</td>\n",
       "      <td>No</td>\n",
       "      <td>No phone service</td>\n",
       "      <td>DSL</td>\n",
       "      <td>Yes</td>\n",
       "      <td>...</td>\n",
       "      <td>No</td>\n",
       "      <td>No</td>\n",
       "      <td>No</td>\n",
       "      <td>No</td>\n",
       "      <td>Month-to-month</td>\n",
       "      <td>Yes</td>\n",
       "      <td>Electronic check</td>\n",
       "      <td>29.60</td>\n",
       "      <td>346.45</td>\n",
       "      <td>No</td>\n",
       "    </tr>\n",
       "    <tr>\n",
       "      <th>7041</th>\n",
       "      <td>8361-LTMKD</td>\n",
       "      <td>Male</td>\n",
       "      <td>1</td>\n",
       "      <td>Yes</td>\n",
       "      <td>No</td>\n",
       "      <td>4</td>\n",
       "      <td>Yes</td>\n",
       "      <td>Yes</td>\n",
       "      <td>Fiber optic</td>\n",
       "      <td>No</td>\n",
       "      <td>...</td>\n",
       "      <td>No</td>\n",
       "      <td>No</td>\n",
       "      <td>No</td>\n",
       "      <td>No</td>\n",
       "      <td>Month-to-month</td>\n",
       "      <td>Yes</td>\n",
       "      <td>Mailed check</td>\n",
       "      <td>74.40</td>\n",
       "      <td>306.6</td>\n",
       "      <td>Yes</td>\n",
       "    </tr>\n",
       "    <tr>\n",
       "      <th>7042</th>\n",
       "      <td>3186-AJIEK</td>\n",
       "      <td>Male</td>\n",
       "      <td>0</td>\n",
       "      <td>No</td>\n",
       "      <td>No</td>\n",
       "      <td>66</td>\n",
       "      <td>Yes</td>\n",
       "      <td>No</td>\n",
       "      <td>Fiber optic</td>\n",
       "      <td>Yes</td>\n",
       "      <td>...</td>\n",
       "      <td>Yes</td>\n",
       "      <td>Yes</td>\n",
       "      <td>Yes</td>\n",
       "      <td>Yes</td>\n",
       "      <td>Two year</td>\n",
       "      <td>Yes</td>\n",
       "      <td>Bank transfer (automatic)</td>\n",
       "      <td>105.65</td>\n",
       "      <td>6844.5</td>\n",
       "      <td>No</td>\n",
       "    </tr>\n",
       "  </tbody>\n",
       "</table>\n",
       "<p>5 rows × 21 columns</p>\n",
       "</div>"
      ],
      "text/plain": [
       "      customerID  gender  SeniorCitizen Partner Dependents  tenure  \\\n",
       "7038  6840-RESVB    Male              0     Yes        Yes      24   \n",
       "7039  2234-XADUH  Female              0     Yes        Yes      72   \n",
       "7040  4801-JZAZL  Female              0     Yes        Yes      11   \n",
       "7041  8361-LTMKD    Male              1     Yes         No       4   \n",
       "7042  3186-AJIEK    Male              0      No         No      66   \n",
       "\n",
       "     PhoneService     MultipleLines InternetService OnlineSecurity  ...  \\\n",
       "7038          Yes               Yes             DSL            Yes  ...   \n",
       "7039          Yes               Yes     Fiber optic             No  ...   \n",
       "7040           No  No phone service             DSL            Yes  ...   \n",
       "7041          Yes               Yes     Fiber optic             No  ...   \n",
       "7042          Yes                No     Fiber optic            Yes  ...   \n",
       "\n",
       "     DeviceProtection TechSupport StreamingTV StreamingMovies        Contract  \\\n",
       "7038              Yes         Yes         Yes             Yes        One year   \n",
       "7039              Yes          No         Yes             Yes        One year   \n",
       "7040               No          No          No              No  Month-to-month   \n",
       "7041               No          No          No              No  Month-to-month   \n",
       "7042              Yes         Yes         Yes             Yes        Two year   \n",
       "\n",
       "     PaperlessBilling              PaymentMethod MonthlyCharges  TotalCharges  \\\n",
       "7038              Yes               Mailed check          84.80        1990.5   \n",
       "7039              Yes    Credit card (automatic)         103.20        7362.9   \n",
       "7040              Yes           Electronic check          29.60        346.45   \n",
       "7041              Yes               Mailed check          74.40         306.6   \n",
       "7042              Yes  Bank transfer (automatic)         105.65        6844.5   \n",
       "\n",
       "     Churn  \n",
       "7038    No  \n",
       "7039    No  \n",
       "7040    No  \n",
       "7041   Yes  \n",
       "7042    No  \n",
       "\n",
       "[5 rows x 21 columns]"
      ]
     },
     "execution_count": 18,
     "metadata": {},
     "output_type": "execute_result"
    }
   ],
   "source": [
    " # Reading a tail of dataset using head function.\n",
    "df.tail()"
   ]
  },
  {
   "cell_type": "markdown",
   "id": "8359d04c",
   "metadata": {},
   "source": [
    "## II. Data Description\n",
    "\n",
    "The raw data contains 7043 rows (customers) and 21 columns (features).\n",
    "\n",
    "- customer ID: Customer ID\n",
    "- gender: Whether the customer is a male or a female\n",
    "- SeniorCitizen: Whether the customer is a senior citizen or not (1, 0)\n",
    "- Partner: Whether the customer has a partner or not (Yes, No)\n",
    "- Dependents: Whether the customer has dependents or not (Yes, No)\n",
    "- tenure: Number of months the customer has stayed with the company\n",
    "- PhoneService: Whether the customer has a phone service or not (Yes, No)\n",
    "- MultipleLines: Whether the customer has multiple lines or not (Yes, No, No phone service)\n",
    "- InternetService: Customer’s internet service provider (DSL, Fiber optic, No)\n",
    "- OnlineSecurity: Whether the customer has online security or not (Yes, No, No internet service)\n",
    "- OnlineBackup: Whether the customer has online backup or not (Yes, No, No internet service)\n",
    "- DeviceProtection: Whether the customer has device protection or not (Yes, No, No internet service)\n",
    "- TechSupport: Whether the customer has tech support or not (Yes, No, No internet service)\n",
    "- StreamingTV: Whether the customer has streaming TV or not (Yes, No, No internet service)\n",
    "- StreamingMovies: Whether the customer has streaming movies or not (Yes, No, No internet service)\n",
    "- Contract: The contract term of the customer (Month-to-month, One year, Two year)\n",
    "- PaperlessBilling: Whether the customer has paperless billing or not (Yes, No)\n",
    "- PaymentMethod: The customer’s payment method (Electronic check, Mailed check, Bank transfer (automatic), Credit card (automatic))\n",
    "- MonthlyCharges: The amount charged to the customer monthly\n",
    "- TotalCharges: The total amount charged to the customer\n",
    "- Churn: Whether the customer churned or not (Yes or No)"
   ]
  },
  {
   "cell_type": "markdown",
   "id": "fd824683",
   "metadata": {},
   "source": [
    "## III.Data Collection"
   ]
  },
  {
   "cell_type": "code",
   "execution_count": null,
   "id": "d48af594",
   "metadata": {},
   "outputs": [],
   "source": []
  },
  {
   "cell_type": "code",
   "execution_count": 19,
   "id": "038e6069",
   "metadata": {},
   "outputs": [
    {
     "name": "stdout",
     "output_type": "stream",
     "text": [
      "<class 'pandas.core.frame.DataFrame'>\n",
      "RangeIndex: 7043 entries, 0 to 7042\n",
      "Data columns (total 21 columns):\n",
      " #   Column            Non-Null Count  Dtype  \n",
      "---  ------            --------------  -----  \n",
      " 0   customerID        7043 non-null   object \n",
      " 1   gender            7043 non-null   object \n",
      " 2   SeniorCitizen     7043 non-null   int64  \n",
      " 3   Partner           7043 non-null   object \n",
      " 4   Dependents        7043 non-null   object \n",
      " 5   tenure            7043 non-null   int64  \n",
      " 6   PhoneService      7043 non-null   object \n",
      " 7   MultipleLines     7043 non-null   object \n",
      " 8   InternetService   7043 non-null   object \n",
      " 9   OnlineSecurity    7043 non-null   object \n",
      " 10  OnlineBackup      7043 non-null   object \n",
      " 11  DeviceProtection  7043 non-null   object \n",
      " 12  TechSupport       7043 non-null   object \n",
      " 13  StreamingTV       7043 non-null   object \n",
      " 14  StreamingMovies   7043 non-null   object \n",
      " 15  Contract          7043 non-null   object \n",
      " 16  PaperlessBilling  7043 non-null   object \n",
      " 17  PaymentMethod     7043 non-null   object \n",
      " 18  MonthlyCharges    7043 non-null   float64\n",
      " 19  TotalCharges      7043 non-null   object \n",
      " 20  Churn             7043 non-null   object \n",
      "dtypes: float64(1), int64(2), object(18)\n",
      "memory usage: 1.1+ MB\n"
     ]
    }
   ],
   "source": [
    "# This info function is just gives the information about data types of the variables in the dataframe.\n",
    "df.info()"
   ]
  },
  {
   "cell_type": "markdown",
   "id": "7f549df8",
   "metadata": {},
   "source": [
    "### Dataset has 7,043 samples and 21 attributes(2 integer, 1 float, and 18 objects)\n",
    "- Target Feature: Churn\n",
    "- Numeric Features: Tenure, MonthlyCharges, and TotalCharges\n",
    "- Categorical Features: CustomerID, Gender, SeniorCitizen, Partner, Dependents, PhoneService, MulitpleLines, InternetService,  OnlineSecurity, OnlineBackup, DeviceProtection, TechSupport, StreamingTV, StreamingMovies, Contract,PaperlessBilling,\n",
    " PaymentMethod"
   ]
  },
  {
   "cell_type": "markdown",
   "id": "b39f7c47",
   "metadata": {},
   "source": [
    "## |||| Data Reshaping & Cleaning"
   ]
  },
  {
   "cell_type": "markdown",
   "id": "7135d39e",
   "metadata": {},
   "source": [
    "\n",
    "- Rename the features 'tenure' and 'gender'\n",
    "- Convert the feature 'TotalCharges' to numerical data type\n",
    "- Converting the feature 'SeniorCitizen' to object data type"
   ]
  },
  {
   "cell_type": "code",
   "execution_count": 20,
   "id": "4c937b00",
   "metadata": {},
   "outputs": [
    {
     "name": "stdout",
     "output_type": "stream",
     "text": [
      "<class 'pandas.core.frame.DataFrame'>\n",
      "RangeIndex: 7043 entries, 0 to 7042\n",
      "Data columns (total 21 columns):\n",
      " #   Column            Non-Null Count  Dtype  \n",
      "---  ------            --------------  -----  \n",
      " 0   customerID        7043 non-null   object \n",
      " 1   Gender            7043 non-null   object \n",
      " 2   SeniorCitizen     7043 non-null   object \n",
      " 3   Partner           7043 non-null   object \n",
      " 4   Dependents        7043 non-null   object \n",
      " 5   Tenure            7043 non-null   int64  \n",
      " 6   PhoneService      7043 non-null   object \n",
      " 7   MultipleLines     7043 non-null   object \n",
      " 8   InternetService   7043 non-null   object \n",
      " 9   OnlineSecurity    7043 non-null   object \n",
      " 10  OnlineBackup      7043 non-null   object \n",
      " 11  DeviceProtection  7043 non-null   object \n",
      " 12  TechSupport       7043 non-null   object \n",
      " 13  StreamingTV       7043 non-null   object \n",
      " 14  StreamingMovies   7043 non-null   object \n",
      " 15  Contract          7043 non-null   object \n",
      " 16  PaperlessBilling  7043 non-null   object \n",
      " 17  PaymentMethod     7043 non-null   object \n",
      " 18  MonthlyCharges    7043 non-null   float64\n",
      " 19  TotalCharges      7032 non-null   float32\n",
      " 20  Churn             7043 non-null   object \n",
      "dtypes: float32(1), float64(1), int64(1), object(18)\n",
      "memory usage: 1.1+ MB\n"
     ]
    },
    {
     "name": "stderr",
     "output_type": "stream",
     "text": [
      "C:\\Users\\ADMINI~1\\AppData\\Local\\Temp/ipykernel_1872/3223722138.py:8: DeprecationWarning: `np.object` is a deprecated alias for the builtin `object`. To silence this warning, use `object` by itself. Doing this will not modify any behavior and is safe. \n",
      "Deprecated in NumPy 1.20; for more details and guidance: https://numpy.org/devdocs/release/1.20.0-notes.html#deprecations\n",
      "  df['SeniorCitizen'] = df['SeniorCitizen'].astype(np.object)\n"
     ]
    }
   ],
   "source": [
    " #renaming 'tenure' and 'gender'\n",
    "df = df.rename(columns={'tenure': 'Tenure', 'gender': 'Gender'})\n",
    "\n",
    "# converting 'TotalCharges' to numerical data type\n",
    "df['TotalCharges'] = pd.to_numeric(df['TotalCharges'], errors='coerce', downcast='float')\n",
    "\n",
    "# converting 'SeniorCitizen' to object data type\n",
    "df['SeniorCitizen'] = df['SeniorCitizen'].astype(np.object)\n",
    "\n",
    "# check\n",
    "df.info()"
   ]
  },
  {
   "cell_type": "code",
   "execution_count": 21,
   "id": "042a65f6",
   "metadata": {},
   "outputs": [
    {
     "data": {
      "text/plain": [
       "customerID           0\n",
       "Gender               0\n",
       "SeniorCitizen        0\n",
       "Partner              0\n",
       "Dependents           0\n",
       "Tenure               0\n",
       "PhoneService         0\n",
       "MultipleLines        0\n",
       "InternetService      0\n",
       "OnlineSecurity       0\n",
       "OnlineBackup         0\n",
       "DeviceProtection     0\n",
       "TechSupport          0\n",
       "StreamingTV          0\n",
       "StreamingMovies      0\n",
       "Contract             0\n",
       "PaperlessBilling     0\n",
       "PaymentMethod        0\n",
       "MonthlyCharges       0\n",
       "TotalCharges        11\n",
       "Churn                0\n",
       "dtype: int64"
      ]
     },
     "execution_count": 21,
     "metadata": {},
     "output_type": "execute_result"
    }
   ],
   "source": [
    "#checking Null values\n",
    "df.isna().sum()"
   ]
  },
  {
   "cell_type": "markdown",
   "id": "1420624d",
   "metadata": {},
   "source": [
    "#### Above result showes that we 11 numbers null values in thr total charge"
   ]
  },
  {
   "cell_type": "code",
   "execution_count": 22,
   "id": "fb5b0b03",
   "metadata": {},
   "outputs": [
    {
     "data": {
      "text/plain": [
       "11"
      ]
     },
     "execution_count": 22,
     "metadata": {},
     "output_type": "execute_result"
    }
   ],
   "source": [
    "#checking more detail in nuul values\n",
    "df.isna().sum().sum()"
   ]
  },
  {
   "cell_type": "code",
   "execution_count": 23,
   "id": "fe8da7fe",
   "metadata": {},
   "outputs": [
    {
     "data": {
      "text/plain": [
       "20.200001      11\n",
       "19.750000       9\n",
       "20.049999       8\n",
       "19.900000       8\n",
       "19.650000       8\n",
       "               ..\n",
       "6849.399902     1\n",
       "692.349976      1\n",
       "130.149994      1\n",
       "3211.899902     1\n",
       "6844.500000     1\n",
       "Name: TotalCharges, Length: 6530, dtype: int64"
      ]
     },
     "execution_count": 23,
     "metadata": {},
     "output_type": "execute_result"
    }
   ],
   "source": [
    "df['TotalCharges'].value_counts()"
   ]
  },
  {
   "cell_type": "code",
   "execution_count": 24,
   "id": "36fa6090",
   "metadata": {},
   "outputs": [
    {
     "name": "stdout",
     "output_type": "stream",
     "text": [
      "Percentage of null values in TotalCharges column: 0.1561834445548772\n"
     ]
    }
   ],
   "source": [
    "#percentage of null values\n",
    "percentage_of_null_values = df['TotalCharges'].isna().sum() / len(df['TotalCharges']) * 100\n",
    "print(\"Percentage of null values in TotalCharges column:\", percentage_of_null_values)\n"
   ]
  },
  {
   "cell_type": "markdown",
   "id": "e48177c3",
   "metadata": {},
   "source": [
    "#### Above result showes that we have less percentage of null values so we can fill with \"0\""
   ]
  },
  {
   "cell_type": "code",
   "execution_count": 25,
   "id": "b7047325",
   "metadata": {},
   "outputs": [],
   "source": [
    "#filling null values with 0\n",
    "df['TotalCharges'] = df['TotalCharges'].fillna(0)\n",
    "\n"
   ]
  },
  {
   "cell_type": "code",
   "execution_count": 26,
   "id": "c6b20154",
   "metadata": {},
   "outputs": [
    {
     "data": {
      "text/plain": [
       "0"
      ]
     },
     "execution_count": 26,
     "metadata": {},
     "output_type": "execute_result"
    }
   ],
   "source": [
    "#checking null values\n",
    "df['TotalCharges'].isna().sum()"
   ]
  },
  {
   "cell_type": "code",
   "execution_count": 27,
   "id": "4638512f",
   "metadata": {},
   "outputs": [
    {
     "data": {
      "text/plain": [
       "customerID          0\n",
       "Gender              0\n",
       "SeniorCitizen       0\n",
       "Partner             0\n",
       "Dependents          0\n",
       "Tenure              0\n",
       "PhoneService        0\n",
       "MultipleLines       0\n",
       "InternetService     0\n",
       "OnlineSecurity      0\n",
       "OnlineBackup        0\n",
       "DeviceProtection    0\n",
       "TechSupport         0\n",
       "StreamingTV         0\n",
       "StreamingMovies     0\n",
       "Contract            0\n",
       "PaperlessBilling    0\n",
       "PaymentMethod       0\n",
       "MonthlyCharges      0\n",
       "TotalCharges        0\n",
       "Churn               0\n",
       "dtype: int64"
      ]
     },
     "execution_count": 27,
     "metadata": {},
     "output_type": "execute_result"
    }
   ],
   "source": [
    "df.isna().sum()"
   ]
  },
  {
   "cell_type": "code",
   "execution_count": 28,
   "id": "f8615cd1",
   "metadata": {},
   "outputs": [
    {
     "data": {
      "text/plain": [
       "Index(['customerID', 'Gender', 'SeniorCitizen', 'Partner', 'Dependents',\n",
       "       'Tenure', 'PhoneService', 'MultipleLines', 'InternetService',\n",
       "       'OnlineSecurity', 'OnlineBackup', 'DeviceProtection', 'TechSupport',\n",
       "       'StreamingTV', 'StreamingMovies', 'Contract', 'PaperlessBilling',\n",
       "       'PaymentMethod', 'MonthlyCharges', 'TotalCharges', 'Churn'],\n",
       "      dtype='object')"
      ]
     },
     "execution_count": 28,
     "metadata": {},
     "output_type": "execute_result"
    }
   ],
   "source": [
    "df.columns"
   ]
  },
  {
   "cell_type": "code",
   "execution_count": 29,
   "id": "2fc0b7fb",
   "metadata": {},
   "outputs": [
    {
     "data": {
      "text/plain": [
       "Male      3551\n",
       "Female    3485\n",
       "female       3\n",
       "male         2\n",
       "MMale        1\n",
       "\"Male\"       1\n",
       "Name: Gender, dtype: int64"
      ]
     },
     "execution_count": 29,
     "metadata": {},
     "output_type": "execute_result"
    }
   ],
   "source": [
    "# checking data set values\n",
    "df['Gender'].value_counts()"
   ]
  },
  {
   "cell_type": "markdown",
   "id": "dc436cac",
   "metadata": {},
   "source": [
    "#### Above code showes that we have messy data in gender so we should clean that"
   ]
  },
  {
   "cell_type": "code",
   "execution_count": 30,
   "id": "2a194bb9",
   "metadata": {},
   "outputs": [],
   "source": [
    "df['Gender'] = df['Gender'].replace(['female', 'F', 'f'], 'Female')\n",
    "df['Gender'] = df['Gender'].replace(['\"Male\"', 'MMale','M', 'm','male'], 'Male')\n"
   ]
  },
  {
   "cell_type": "code",
   "execution_count": 31,
   "id": "0e232994",
   "metadata": {},
   "outputs": [
    {
     "data": {
      "text/plain": [
       "Male      3555\n",
       "Female    3488\n",
       "Name: Gender, dtype: int64"
      ]
     },
     "execution_count": 31,
     "metadata": {},
     "output_type": "execute_result"
    }
   ],
   "source": [
    "# No .of customers according to Gender the majority of customers are \"Male\"\n",
    "df['Gender'].value_counts()"
   ]
  },
  {
   "cell_type": "code",
   "execution_count": 32,
   "id": "e38c99a8",
   "metadata": {},
   "outputs": [
    {
     "data": {
      "text/plain": [
       "0    5901\n",
       "1    1142\n",
       "Name: SeniorCitizen, dtype: int64"
      ]
     },
     "execution_count": 32,
     "metadata": {},
     "output_type": "execute_result"
    }
   ],
   "source": [
    "## No .of customers with seniorcitizen\n",
    "df['SeniorCitizen'].value_counts()"
   ]
  },
  {
   "cell_type": "code",
   "execution_count": 33,
   "id": "3d6ba1a8",
   "metadata": {},
   "outputs": [
    {
     "data": {
      "text/plain": [
       "No     5174\n",
       "Yes    1869\n",
       "Name: Churn, dtype: int64"
      ]
     },
     "execution_count": 33,
     "metadata": {},
     "output_type": "execute_result"
    }
   ],
   "source": [
    "# No .of customers are planning to change the service provider\n",
    "df['Churn'].value_counts()"
   ]
  },
  {
   "cell_type": "code",
   "execution_count": 34,
   "id": "88053a1b",
   "metadata": {},
   "outputs": [
    {
     "data": {
      "text/plain": [
       "No     3641\n",
       "Yes    3402\n",
       "Name: Partner, dtype: int64"
      ]
     },
     "execution_count": 34,
     "metadata": {},
     "output_type": "execute_result"
    }
   ],
   "source": [
    "# No .of customers have partner\n",
    "df['Partner'].value_counts()"
   ]
  },
  {
   "cell_type": "code",
   "execution_count": 35,
   "id": "6568f41f",
   "metadata": {},
   "outputs": [
    {
     "data": {
      "text/plain": [
       "No                     2785\n",
       "Yes                    2732\n",
       "No internet service    1526\n",
       "Name: StreamingMovies, dtype: int64"
      ]
     },
     "execution_count": 35,
     "metadata": {},
     "output_type": "execute_result"
    }
   ],
   "source": [
    "## No .of customer use streaming service\n",
    "df['StreamingMovies'].value_counts()"
   ]
  },
  {
   "cell_type": "code",
   "execution_count": 36,
   "id": "1ce192f8",
   "metadata": {},
   "outputs": [
    {
     "data": {
      "text/plain": [
       "Month-to-month    3875\n",
       "Two year          1695\n",
       "One year          1473\n",
       "Name: Contract, dtype: int64"
      ]
     },
     "execution_count": 36,
     "metadata": {},
     "output_type": "execute_result"
    }
   ],
   "source": [
    "# No .of customer according to type of contract\n",
    "df['Contract'].value_counts()"
   ]
  },
  {
   "cell_type": "code",
   "execution_count": 37,
   "id": "46ccc262",
   "metadata": {},
   "outputs": [],
   "source": [
    "#dividing categorical and numerical\n",
    "categorical = df.select_dtypes(include=object)\n",
    "numerical = df.select_dtypes(include=np.number)"
   ]
  },
  {
   "cell_type": "code",
   "execution_count": 38,
   "id": "0aedc3b2",
   "metadata": {},
   "outputs": [
    {
     "data": {
      "text/html": [
       "<div>\n",
       "<style scoped>\n",
       "    .dataframe tbody tr th:only-of-type {\n",
       "        vertical-align: middle;\n",
       "    }\n",
       "\n",
       "    .dataframe tbody tr th {\n",
       "        vertical-align: top;\n",
       "    }\n",
       "\n",
       "    .dataframe thead th {\n",
       "        text-align: right;\n",
       "    }\n",
       "</style>\n",
       "<table border=\"1\" class=\"dataframe\">\n",
       "  <thead>\n",
       "    <tr style=\"text-align: right;\">\n",
       "      <th></th>\n",
       "      <th>Tenure</th>\n",
       "      <th>MonthlyCharges</th>\n",
       "      <th>TotalCharges</th>\n",
       "    </tr>\n",
       "  </thead>\n",
       "  <tbody>\n",
       "    <tr>\n",
       "      <th>0</th>\n",
       "      <td>1</td>\n",
       "      <td>29.85</td>\n",
       "      <td>29.850000</td>\n",
       "    </tr>\n",
       "    <tr>\n",
       "      <th>1</th>\n",
       "      <td>34</td>\n",
       "      <td>56.95</td>\n",
       "      <td>1889.500000</td>\n",
       "    </tr>\n",
       "    <tr>\n",
       "      <th>2</th>\n",
       "      <td>2</td>\n",
       "      <td>53.85</td>\n",
       "      <td>108.150002</td>\n",
       "    </tr>\n",
       "    <tr>\n",
       "      <th>3</th>\n",
       "      <td>45</td>\n",
       "      <td>42.30</td>\n",
       "      <td>1840.750000</td>\n",
       "    </tr>\n",
       "    <tr>\n",
       "      <th>4</th>\n",
       "      <td>2</td>\n",
       "      <td>70.70</td>\n",
       "      <td>151.649994</td>\n",
       "    </tr>\n",
       "    <tr>\n",
       "      <th>...</th>\n",
       "      <td>...</td>\n",
       "      <td>...</td>\n",
       "      <td>...</td>\n",
       "    </tr>\n",
       "    <tr>\n",
       "      <th>7038</th>\n",
       "      <td>24</td>\n",
       "      <td>84.80</td>\n",
       "      <td>1990.500000</td>\n",
       "    </tr>\n",
       "    <tr>\n",
       "      <th>7039</th>\n",
       "      <td>72</td>\n",
       "      <td>103.20</td>\n",
       "      <td>7362.899902</td>\n",
       "    </tr>\n",
       "    <tr>\n",
       "      <th>7040</th>\n",
       "      <td>11</td>\n",
       "      <td>29.60</td>\n",
       "      <td>346.450012</td>\n",
       "    </tr>\n",
       "    <tr>\n",
       "      <th>7041</th>\n",
       "      <td>4</td>\n",
       "      <td>74.40</td>\n",
       "      <td>306.600006</td>\n",
       "    </tr>\n",
       "    <tr>\n",
       "      <th>7042</th>\n",
       "      <td>66</td>\n",
       "      <td>105.65</td>\n",
       "      <td>6844.500000</td>\n",
       "    </tr>\n",
       "  </tbody>\n",
       "</table>\n",
       "<p>7043 rows × 3 columns</p>\n",
       "</div>"
      ],
      "text/plain": [
       "      Tenure  MonthlyCharges  TotalCharges\n",
       "0          1           29.85     29.850000\n",
       "1         34           56.95   1889.500000\n",
       "2          2           53.85    108.150002\n",
       "3         45           42.30   1840.750000\n",
       "4          2           70.70    151.649994\n",
       "...      ...             ...           ...\n",
       "7038      24           84.80   1990.500000\n",
       "7039      72          103.20   7362.899902\n",
       "7040      11           29.60    346.450012\n",
       "7041       4           74.40    306.600006\n",
       "7042      66          105.65   6844.500000\n",
       "\n",
       "[7043 rows x 3 columns]"
      ]
     },
     "execution_count": 38,
     "metadata": {},
     "output_type": "execute_result"
    }
   ],
   "source": [
    "#showing numerical\n",
    "numerical"
   ]
  },
  {
   "cell_type": "markdown",
   "id": "f6ddede1",
   "metadata": {},
   "source": [
    "## V. Exploratory Data Analysis(EDA)"
   ]
  },
  {
   "cell_type": "markdown",
   "id": "f1a9147c",
   "metadata": {},
   "source": [
    "### 1. Target Variable\n",
    "(1) Churn: Customer churn rate of Telco from this dataset is 27%"
   ]
  },
  {
   "cell_type": "code",
   "execution_count": 39,
   "id": "ce2d88af",
   "metadata": {
    "scrolled": true
   },
   "outputs": [
    {
     "data": {
      "text/plain": [
       "Text(0.5, 1.0, 'Churn vs Non Churn')"
      ]
     },
     "execution_count": 39,
     "metadata": {},
     "output_type": "execute_result"
    },
    {
     "data": {
      "image/png": "[encoded data removed]",
      "text/plain": [
       "<Figure size 432x288 with 1 Axes>"
      ]
     },
     "metadata": {},
     "output_type": "display_data"
    }
   ],
   "source": [
    "#Pie chart of churn\n",
    "churn_rate = df.Churn.value_counts() / len(df.Churn)\n",
    "labels = 'Non-Churn', 'Churn'\n",
    "\n",
    "fig, ax = plt.subplots()\n",
    "ax.pie(churn_rate, labels=labels, autopct='%.f%%')  \n",
    "ax.set_title('Churn vs Non Churn', fontsize=16)"
   ]
  },
  {
   "cell_type": "code",
   "execution_count": 40,
   "id": "5a49337d",
   "metadata": {},
   "outputs": [],
   "source": [
    "#same data for plotting bar chart"
   ]
  },
  {
   "cell_type": "code",
   "execution_count": 41,
   "id": "87b42a9c",
   "metadata": {
    "scrolled": true
   },
   "outputs": [
    {
     "name": "stdout",
     "output_type": "stream",
     "text": [
      "26.536987079369588\n"
     ]
    },
    {
     "name": "stderr",
     "output_type": "stream",
     "text": [
      "C:\\Users\\Administrator\\anaconda3\\lib\\site-packages\\seaborn\\_decorators.py:36: FutureWarning: Pass the following variable as a keyword arg: x. From version 0.12, the only valid positional argument will be `data`, and passing other arguments without an explicit keyword will result in an error or misinterpretation.\n",
      "  warnings.warn(\n"
     ]
    },
    {
     "data": {
      "text/plain": [
       "Text(0.5, 1.0, 'Bar plot for churn')"
      ]
     },
     "execution_count": 41,
     "metadata": {},
     "output_type": "execute_result"
    },
    {
     "data": {
      "image/png": "[encoded data removed]",
      "text/plain": [
       "<Figure size 432x288 with 1 Axes>"
      ]
     },
     "metadata": {
      "needs_background": "light"
     },
     "output_type": "display_data"
    }
   ],
   "source": [
    "# Bar plot of churn variable\n",
    "sns.countplot(df['Churn'])\n",
    "print(len(df[df['Churn']=='Yes'])/len(df)*100)\n",
    "plt.xlabel('Churn') # Giving x label to the bar plot\n",
    "plt.ylabel('No. of customers') # Giving y label to the bar plot\n",
    "plt.title('Bar plot for churn') # Giving title to the bar plot"
   ]
  },
  {
   "cell_type": "markdown",
   "id": "a518ec6c",
   "metadata": {},
   "source": [
    "## 2. Numeric Features\n",
    "(1) Tenure: Customer with less tenure is more likely to churn.\n",
    "\n",
    "(2) Monthly Charges: Customer with low monthly charges is less likely to churn; however, the churn trend between churn customers and non-churn customers gets similar as monthly charges go up.\n",
    "\n",
    "(3) Total Charges: The distribution is similar for both churn customers and non-churn customers, implying that the feature Total Charges may not be a good predictor."
   ]
  },
  {
   "cell_type": "code",
   "execution_count": 42,
   "id": "10ac2a5c",
   "metadata": {},
   "outputs": [
    {
     "name": "stderr",
     "output_type": "stream",
     "text": [
      "C:\\Users\\Administrator\\anaconda3\\lib\\site-packages\\seaborn\\distributions.py:2619: FutureWarning: `distplot` is a deprecated function and will be removed in a future version. Please adapt your code to use either `displot` (a figure-level function with similar flexibility) or `histplot` (an axes-level function for histograms).\n",
      "  warnings.warn(msg, FutureWarning)\n",
      "C:\\Users\\Administrator\\anaconda3\\lib\\site-packages\\seaborn\\distributions.py:2619: FutureWarning: `distplot` is a deprecated function and will be removed in a future version. Please adapt your code to use either `displot` (a figure-level function with similar flexibility) or `histplot` (an axes-level function for histograms).\n",
      "  warnings.warn(msg, FutureWarning)\n",
      "C:\\Users\\Administrator\\anaconda3\\lib\\site-packages\\seaborn\\distributions.py:2619: FutureWarning: `distplot` is a deprecated function and will be removed in a future version. Please adapt your code to use either `displot` (a figure-level function with similar flexibility) or `histplot` (an axes-level function for histograms).\n",
      "  warnings.warn(msg, FutureWarning)\n",
      "C:\\Users\\Administrator\\anaconda3\\lib\\site-packages\\seaborn\\distributions.py:2619: FutureWarning: `distplot` is a deprecated function and will be removed in a future version. Please adapt your code to use either `displot` (a figure-level function with similar flexibility) or `histplot` (an axes-level function for histograms).\n",
      "  warnings.warn(msg, FutureWarning)\n",
      "C:\\Users\\Administrator\\anaconda3\\lib\\site-packages\\seaborn\\distributions.py:2619: FutureWarning: `distplot` is a deprecated function and will be removed in a future version. Please adapt your code to use either `displot` (a figure-level function with similar flexibility) or `histplot` (an axes-level function for histograms).\n",
      "  warnings.warn(msg, FutureWarning)\n",
      "C:\\Users\\Administrator\\anaconda3\\lib\\site-packages\\seaborn\\distributions.py:2619: FutureWarning: `distplot` is a deprecated function and will be removed in a future version. Please adapt your code to use either `displot` (a figure-level function with similar flexibility) or `histplot` (an axes-level function for histograms).\n",
      "  warnings.warn(msg, FutureWarning)\n"
     ]
    },
    {
     "data": {
      "image/png": "[encoded data removed]",
      "text/plain": [
       "<Figure size 576x360 with 1 Axes>"
      ]
     },
     "metadata": {
      "needs_background": "light"
     },
     "output_type": "display_data"
    },
    {
     "data": {
      "image/png": "[encoded data removed]",
      "text/plain": [
       "<Figure size 576x360 with 1 Axes>"
      ]
     },
     "metadata": {
      "needs_background": "light"
     },
     "output_type": "display_data"
    },
    {
     "data": {
      "image/png": "[encoded data removed]",
      "text/plain": [
       "<Figure size 576x360 with 1 Axes>"
      ]
     },
     "metadata": {
      "needs_background": "light"
     },
     "output_type": "display_data"
    }
   ],
   "source": [
    "# numerical features grouped by churn\n",
    "for col in ['Tenure', 'MonthlyCharges', 'TotalCharges']:\n",
    "    fig = plt.figure(figsize=(8,5))\n",
    "    sns.distplot(df[df.Churn == 'No'][col],\n",
    "                 bins=10,\n",
    "                 color='orange',\n",
    "                 label='Non-Churn',\n",
    "                 kde=True)\n",
    "    sns.distplot(df[df.Churn == 'Yes'][col],\n",
    "                 bins=10,\n",
    "                 color='blue',\n",
    "                 label='Churn',\n",
    "                 kde=True)\n",
    "    plt.legend(labels)"
   ]
  },
  {
   "cell_type": "code",
   "execution_count": 43,
   "id": "6dca39a8",
   "metadata": {},
   "outputs": [
    {
     "ename": "SyntaxError",
     "evalue": "invalid syntax (Temp/ipykernel_1872/1460570645.py, line 2)",
     "output_type": "error",
     "traceback": [
      "\u001b[1;36m  File \u001b[1;32m\"C:\\Users\\ADMINI~1\\AppData\\Local\\Temp/ipykernel_1872/1460570645.py\"\u001b[1;36m, line \u001b[1;32m2\u001b[0m\n\u001b[1;33m    around 6 years. So with this insight we can provide these customers special offer in calling and gives loyalty benifits to stay longer with the company\u001b[0m\n\u001b[1;37m           ^\u001b[0m\n\u001b[1;31mSyntaxError\u001b[0m\u001b[1;31m:\u001b[0m invalid syntax\n"
     ]
    }
   ],
   "source": [
    "### Below showes that top 5 customerID number 4737,9680,5914,5168,0464 that staye more than 72 month in this operator and are using this telecome providers\n",
    "around 6 years. So with this insight we can provide these customers special offer in calling and gives loyalty benifits to stay longer with the company"
   ]
  },
  {
   "cell_type": "code",
   "execution_count": null,
   "id": "911a028a",
   "metadata": {},
   "outputs": [],
   "source": [
    "df['Tenure'].sort_values(ascending=False).head(5)"
   ]
  },
  {
   "cell_type": "code",
   "execution_count": null,
   "id": "c96c554a",
   "metadata": {},
   "outputs": [],
   "source": [
    "#Tenure - This variable gives the inforamtion about how long the customers are with this telecome company in months.\n",
    "# top five customers who are using this service from very long tim\n",
    "df['Tenure'].sort_values(ascending=False).head(5)\n",
    "df.sort_values('Tenure', ascending=False).head(5)['customerID']\n"
   ]
  },
  {
   "cell_type": "code",
   "execution_count": 44,
   "id": "8438e09f",
   "metadata": {},
   "outputs": [
    {
     "data": {
      "text/plain": [
       "2279.732177734375"
      ]
     },
     "execution_count": 44,
     "metadata": {},
     "output_type": "execute_result"
    }
   ],
   "source": [
    "df['TotalCharges'].mean()"
   ]
  },
  {
   "cell_type": "code",
   "execution_count": 45,
   "id": "3dad78d1",
   "metadata": {},
   "outputs": [
    {
     "data": {
      "text/plain": [
       "64.76169246059922"
      ]
     },
     "execution_count": 45,
     "metadata": {},
     "output_type": "execute_result"
    }
   ],
   "source": [
    "df['MonthlyCharges'].mean()"
   ]
  },
  {
   "cell_type": "code",
   "execution_count": 46,
   "id": "482e3d8a",
   "metadata": {},
   "outputs": [
    {
     "data": {
      "text/html": [
       "<div>\n",
       "<style scoped>\n",
       "    .dataframe tbody tr th:only-of-type {\n",
       "        vertical-align: middle;\n",
       "    }\n",
       "\n",
       "    .dataframe tbody tr th {\n",
       "        vertical-align: top;\n",
       "    }\n",
       "\n",
       "    .dataframe thead th {\n",
       "        text-align: right;\n",
       "    }\n",
       "</style>\n",
       "<table border=\"1\" class=\"dataframe\">\n",
       "  <thead>\n",
       "    <tr style=\"text-align: right;\">\n",
       "      <th></th>\n",
       "      <th>customerID</th>\n",
       "      <th>Gender</th>\n",
       "      <th>SeniorCitizen</th>\n",
       "      <th>Partner</th>\n",
       "      <th>Dependents</th>\n",
       "      <th>Tenure</th>\n",
       "      <th>PhoneService</th>\n",
       "      <th>MultipleLines</th>\n",
       "      <th>InternetService</th>\n",
       "      <th>OnlineSecurity</th>\n",
       "      <th>...</th>\n",
       "      <th>DeviceProtection</th>\n",
       "      <th>TechSupport</th>\n",
       "      <th>StreamingTV</th>\n",
       "      <th>StreamingMovies</th>\n",
       "      <th>Contract</th>\n",
       "      <th>PaperlessBilling</th>\n",
       "      <th>PaymentMethod</th>\n",
       "      <th>MonthlyCharges</th>\n",
       "      <th>TotalCharges</th>\n",
       "      <th>Churn</th>\n",
       "    </tr>\n",
       "  </thead>\n",
       "  <tbody>\n",
       "    <tr>\n",
       "      <th>0</th>\n",
       "      <td>7590-VHVEG</td>\n",
       "      <td>Female</td>\n",
       "      <td>0</td>\n",
       "      <td>Yes</td>\n",
       "      <td>No</td>\n",
       "      <td>1</td>\n",
       "      <td>No</td>\n",
       "      <td>No phone service</td>\n",
       "      <td>DSL</td>\n",
       "      <td>No</td>\n",
       "      <td>...</td>\n",
       "      <td>No</td>\n",
       "      <td>No</td>\n",
       "      <td>No</td>\n",
       "      <td>No</td>\n",
       "      <td>Month-to-month</td>\n",
       "      <td>Yes</td>\n",
       "      <td>Electronic check</td>\n",
       "      <td>29.85</td>\n",
       "      <td>29.850000</td>\n",
       "      <td>No</td>\n",
       "    </tr>\n",
       "    <tr>\n",
       "      <th>1</th>\n",
       "      <td>5575-GNVDE</td>\n",
       "      <td>Male</td>\n",
       "      <td>0</td>\n",
       "      <td>No</td>\n",
       "      <td>No</td>\n",
       "      <td>34</td>\n",
       "      <td>Yes</td>\n",
       "      <td>No</td>\n",
       "      <td>DSL</td>\n",
       "      <td>Yes</td>\n",
       "      <td>...</td>\n",
       "      <td>Yes</td>\n",
       "      <td>No</td>\n",
       "      <td>No</td>\n",
       "      <td>No</td>\n",
       "      <td>One year</td>\n",
       "      <td>No</td>\n",
       "      <td>Mailed check</td>\n",
       "      <td>56.95</td>\n",
       "      <td>1889.500000</td>\n",
       "      <td>No</td>\n",
       "    </tr>\n",
       "    <tr>\n",
       "      <th>2</th>\n",
       "      <td>3668-QPYBK</td>\n",
       "      <td>Male</td>\n",
       "      <td>0</td>\n",
       "      <td>No</td>\n",
       "      <td>No</td>\n",
       "      <td>2</td>\n",
       "      <td>Yes</td>\n",
       "      <td>No</td>\n",
       "      <td>DSL</td>\n",
       "      <td>Yes</td>\n",
       "      <td>...</td>\n",
       "      <td>No</td>\n",
       "      <td>No</td>\n",
       "      <td>No</td>\n",
       "      <td>No</td>\n",
       "      <td>Month-to-month</td>\n",
       "      <td>Yes</td>\n",
       "      <td>Mailed check</td>\n",
       "      <td>53.85</td>\n",
       "      <td>108.150002</td>\n",
       "      <td>Yes</td>\n",
       "    </tr>\n",
       "    <tr>\n",
       "      <th>3</th>\n",
       "      <td>7795-CFOCW</td>\n",
       "      <td>Male</td>\n",
       "      <td>0</td>\n",
       "      <td>No</td>\n",
       "      <td>No</td>\n",
       "      <td>45</td>\n",
       "      <td>No</td>\n",
       "      <td>No phone service</td>\n",
       "      <td>DSL</td>\n",
       "      <td>Yes</td>\n",
       "      <td>...</td>\n",
       "      <td>Yes</td>\n",
       "      <td>Yes</td>\n",
       "      <td>No</td>\n",
       "      <td>No</td>\n",
       "      <td>One year</td>\n",
       "      <td>No</td>\n",
       "      <td>Bank transfer (automatic)</td>\n",
       "      <td>42.30</td>\n",
       "      <td>1840.750000</td>\n",
       "      <td>No</td>\n",
       "    </tr>\n",
       "    <tr>\n",
       "      <th>4</th>\n",
       "      <td>9237-HQITU</td>\n",
       "      <td>Female</td>\n",
       "      <td>0</td>\n",
       "      <td>No</td>\n",
       "      <td>No</td>\n",
       "      <td>2</td>\n",
       "      <td>Yes</td>\n",
       "      <td>No</td>\n",
       "      <td>Fiber optic</td>\n",
       "      <td>No</td>\n",
       "      <td>...</td>\n",
       "      <td>No</td>\n",
       "      <td>No</td>\n",
       "      <td>No</td>\n",
       "      <td>No</td>\n",
       "      <td>Month-to-month</td>\n",
       "      <td>Yes</td>\n",
       "      <td>Electronic check</td>\n",
       "      <td>70.70</td>\n",
       "      <td>151.649994</td>\n",
       "      <td>Yes</td>\n",
       "    </tr>\n",
       "    <tr>\n",
       "      <th>...</th>\n",
       "      <td>...</td>\n",
       "      <td>...</td>\n",
       "      <td>...</td>\n",
       "      <td>...</td>\n",
       "      <td>...</td>\n",
       "      <td>...</td>\n",
       "      <td>...</td>\n",
       "      <td>...</td>\n",
       "      <td>...</td>\n",
       "      <td>...</td>\n",
       "      <td>...</td>\n",
       "      <td>...</td>\n",
       "      <td>...</td>\n",
       "      <td>...</td>\n",
       "      <td>...</td>\n",
       "      <td>...</td>\n",
       "      <td>...</td>\n",
       "      <td>...</td>\n",
       "      <td>...</td>\n",
       "      <td>...</td>\n",
       "      <td>...</td>\n",
       "    </tr>\n",
       "    <tr>\n",
       "      <th>1995</th>\n",
       "      <td>8000-REIQB</td>\n",
       "      <td>Female</td>\n",
       "      <td>1</td>\n",
       "      <td>No</td>\n",
       "      <td>No</td>\n",
       "      <td>1</td>\n",
       "      <td>Yes</td>\n",
       "      <td>No</td>\n",
       "      <td>Fiber optic</td>\n",
       "      <td>No</td>\n",
       "      <td>...</td>\n",
       "      <td>No</td>\n",
       "      <td>No</td>\n",
       "      <td>No</td>\n",
       "      <td>No</td>\n",
       "      <td>Month-to-month</td>\n",
       "      <td>Yes</td>\n",
       "      <td>Electronic check</td>\n",
       "      <td>69.95</td>\n",
       "      <td>69.949997</td>\n",
       "      <td>Yes</td>\n",
       "    </tr>\n",
       "    <tr>\n",
       "      <th>1996</th>\n",
       "      <td>9993-LHIEB</td>\n",
       "      <td>Male</td>\n",
       "      <td>0</td>\n",
       "      <td>Yes</td>\n",
       "      <td>Yes</td>\n",
       "      <td>67</td>\n",
       "      <td>Yes</td>\n",
       "      <td>No</td>\n",
       "      <td>DSL</td>\n",
       "      <td>Yes</td>\n",
       "      <td>...</td>\n",
       "      <td>Yes</td>\n",
       "      <td>Yes</td>\n",
       "      <td>No</td>\n",
       "      <td>Yes</td>\n",
       "      <td>Two year</td>\n",
       "      <td>No</td>\n",
       "      <td>Mailed check</td>\n",
       "      <td>67.85</td>\n",
       "      <td>4627.649902</td>\n",
       "      <td>No</td>\n",
       "    </tr>\n",
       "    <tr>\n",
       "      <th>1997</th>\n",
       "      <td>0266-CLZKZ</td>\n",
       "      <td>Female</td>\n",
       "      <td>0</td>\n",
       "      <td>Yes</td>\n",
       "      <td>Yes</td>\n",
       "      <td>67</td>\n",
       "      <td>Yes</td>\n",
       "      <td>Yes</td>\n",
       "      <td>Fiber optic</td>\n",
       "      <td>No</td>\n",
       "      <td>...</td>\n",
       "      <td>Yes</td>\n",
       "      <td>Yes</td>\n",
       "      <td>Yes</td>\n",
       "      <td>Yes</td>\n",
       "      <td>Two year</td>\n",
       "      <td>Yes</td>\n",
       "      <td>Bank transfer (automatic)</td>\n",
       "      <td>105.65</td>\n",
       "      <td>6717.899902</td>\n",
       "      <td>No</td>\n",
       "    </tr>\n",
       "    <tr>\n",
       "      <th>1998</th>\n",
       "      <td>7615-ESMYF</td>\n",
       "      <td>Female</td>\n",
       "      <td>0</td>\n",
       "      <td>Yes</td>\n",
       "      <td>No</td>\n",
       "      <td>2</td>\n",
       "      <td>No</td>\n",
       "      <td>No phone service</td>\n",
       "      <td>DSL</td>\n",
       "      <td>No</td>\n",
       "      <td>...</td>\n",
       "      <td>No</td>\n",
       "      <td>No</td>\n",
       "      <td>Yes</td>\n",
       "      <td>Yes</td>\n",
       "      <td>Month-to-month</td>\n",
       "      <td>No</td>\n",
       "      <td>Electronic check</td>\n",
       "      <td>44.60</td>\n",
       "      <td>97.099998</td>\n",
       "      <td>Yes</td>\n",
       "    </tr>\n",
       "    <tr>\n",
       "      <th>1999</th>\n",
       "      <td>3858-VOBET</td>\n",
       "      <td>Male</td>\n",
       "      <td>0</td>\n",
       "      <td>No</td>\n",
       "      <td>No</td>\n",
       "      <td>23</td>\n",
       "      <td>Yes</td>\n",
       "      <td>Yes</td>\n",
       "      <td>Fiber optic</td>\n",
       "      <td>No</td>\n",
       "      <td>...</td>\n",
       "      <td>No</td>\n",
       "      <td>No</td>\n",
       "      <td>No</td>\n",
       "      <td>No</td>\n",
       "      <td>Month-to-month</td>\n",
       "      <td>Yes</td>\n",
       "      <td>Electronic check</td>\n",
       "      <td>74.95</td>\n",
       "      <td>1710.449951</td>\n",
       "      <td>Yes</td>\n",
       "    </tr>\n",
       "  </tbody>\n",
       "</table>\n",
       "<p>2000 rows × 21 columns</p>\n",
       "</div>"
      ],
      "text/plain": [
       "      customerID  Gender SeniorCitizen Partner Dependents  Tenure  \\\n",
       "0     7590-VHVEG  Female             0     Yes         No       1   \n",
       "1     5575-GNVDE    Male             0      No         No      34   \n",
       "2     3668-QPYBK    Male             0      No         No       2   \n",
       "3     7795-CFOCW    Male             0      No         No      45   \n",
       "4     9237-HQITU  Female             0      No         No       2   \n",
       "...          ...     ...           ...     ...        ...     ...   \n",
       "1995  8000-REIQB  Female             1      No         No       1   \n",
       "1996  9993-LHIEB    Male             0     Yes        Yes      67   \n",
       "1997  0266-CLZKZ  Female             0     Yes        Yes      67   \n",
       "1998  7615-ESMYF  Female             0     Yes         No       2   \n",
       "1999  3858-VOBET    Male             0      No         No      23   \n",
       "\n",
       "     PhoneService     MultipleLines InternetService OnlineSecurity  ...  \\\n",
       "0              No  No phone service             DSL             No  ...   \n",
       "1             Yes                No             DSL            Yes  ...   \n",
       "2             Yes                No             DSL            Yes  ...   \n",
       "3              No  No phone service             DSL            Yes  ...   \n",
       "4             Yes                No     Fiber optic             No  ...   \n",
       "...           ...               ...             ...            ...  ...   \n",
       "1995          Yes                No     Fiber optic             No  ...   \n",
       "1996          Yes                No             DSL            Yes  ...   \n",
       "1997          Yes               Yes     Fiber optic             No  ...   \n",
       "1998           No  No phone service             DSL             No  ...   \n",
       "1999          Yes               Yes     Fiber optic             No  ...   \n",
       "\n",
       "     DeviceProtection TechSupport StreamingTV StreamingMovies        Contract  \\\n",
       "0                  No          No          No              No  Month-to-month   \n",
       "1                 Yes          No          No              No        One year   \n",
       "2                  No          No          No              No  Month-to-month   \n",
       "3                 Yes         Yes          No              No        One year   \n",
       "4                  No          No          No              No  Month-to-month   \n",
       "...               ...         ...         ...             ...             ...   \n",
       "1995               No          No          No              No  Month-to-month   \n",
       "1996              Yes         Yes          No             Yes        Two year   \n",
       "1997              Yes         Yes         Yes             Yes        Two year   \n",
       "1998               No          No         Yes             Yes  Month-to-month   \n",
       "1999               No          No          No              No  Month-to-month   \n",
       "\n",
       "     PaperlessBilling              PaymentMethod MonthlyCharges  TotalCharges  \\\n",
       "0                 Yes           Electronic check          29.85     29.850000   \n",
       "1                  No               Mailed check          56.95   1889.500000   \n",
       "2                 Yes               Mailed check          53.85    108.150002   \n",
       "3                  No  Bank transfer (automatic)          42.30   1840.750000   \n",
       "4                 Yes           Electronic check          70.70    151.649994   \n",
       "...               ...                        ...            ...           ...   \n",
       "1995              Yes           Electronic check          69.95     69.949997   \n",
       "1996               No               Mailed check          67.85   4627.649902   \n",
       "1997              Yes  Bank transfer (automatic)         105.65   6717.899902   \n",
       "1998               No           Electronic check          44.60     97.099998   \n",
       "1999              Yes           Electronic check          74.95   1710.449951   \n",
       "\n",
       "      Churn  \n",
       "0        No  \n",
       "1        No  \n",
       "2       Yes  \n",
       "3        No  \n",
       "4       Yes  \n",
       "...     ...  \n",
       "1995    Yes  \n",
       "1996     No  \n",
       "1997     No  \n",
       "1998    Yes  \n",
       "1999    Yes  \n",
       "\n",
       "[2000 rows x 21 columns]"
      ]
     },
     "execution_count": 46,
     "metadata": {},
     "output_type": "execute_result"
    }
   ],
   "source": [
    "df.head(2000)"
   ]
  },
  {
   "cell_type": "markdown",
   "id": "6fe8fb99",
   "metadata": {},
   "source": [
    "### Outliers: The box plots show there is no outliers in this data set."
   ]
  },
  {
   "cell_type": "code",
   "execution_count": 47,
   "id": "d7e57ae2",
   "metadata": {},
   "outputs": [
    {
     "name": "stderr",
     "output_type": "stream",
     "text": [
      "C:\\Users\\Administrator\\anaconda3\\lib\\site-packages\\seaborn\\_decorators.py:36: FutureWarning: Pass the following variable as a keyword arg: x. From version 0.12, the only valid positional argument will be `data`, and passing other arguments without an explicit keyword will result in an error or misinterpretation.\n",
      "  warnings.warn(\n",
      "C:\\Users\\Administrator\\anaconda3\\lib\\site-packages\\seaborn\\_decorators.py:36: FutureWarning: Pass the following variable as a keyword arg: x. From version 0.12, the only valid positional argument will be `data`, and passing other arguments without an explicit keyword will result in an error or misinterpretation.\n",
      "  warnings.warn(\n",
      "C:\\Users\\Administrator\\anaconda3\\lib\\site-packages\\seaborn\\_decorators.py:36: FutureWarning: Pass the following variable as a keyword arg: x. From version 0.12, the only valid positional argument will be `data`, and passing other arguments without an explicit keyword will result in an error or misinterpretation.\n",
      "  warnings.warn(\n"
     ]
    },
    {
     "data": {
      "image/png": "[encoded data removed]",
      "text/plain": [
       "<Figure size 576x216 with 1 Axes>"
      ]
     },
     "metadata": {
      "needs_background": "light"
     },
     "output_type": "display_data"
    },
    {
     "data": {
      "image/png": "[encoded data removed]",
      "text/plain": [
       "<Figure size 576x216 with 1 Axes>"
      ]
     },
     "metadata": {
      "needs_background": "light"
     },
     "output_type": "display_data"
    },
    {
     "data": {
      "image/png": "[encoded data removed]",
      "text/plain": [
       "<Figure size 576x216 with 1 Axes>"
      ]
     },
     "metadata": {
      "needs_background": "light"
     },
     "output_type": "display_data"
    }
   ],
   "source": [
    "# check outliers\n",
    "for col in ['Tenure', 'MonthlyCharges', 'TotalCharges']:\n",
    "    fig = plt.figure(figsize=(8,3))\n",
    "    sns.boxplot(df[col])"
   ]
  },
  {
   "cell_type": "markdown",
   "id": "22217e1e",
   "metadata": {},
   "source": [
    "### Skewness: The density plots show they are not normal distributions."
   ]
  },
  {
   "cell_type": "code",
   "execution_count": 48,
   "id": "be318fea",
   "metadata": {},
   "outputs": [
    {
     "data": {
      "image/png": "[encoded data removed]",
      "text/plain": [
       "<Figure size 576x216 with 1 Axes>"
      ]
     },
     "metadata": {
      "needs_background": "light"
     },
     "output_type": "display_data"
    },
    {
     "data": {
      "image/png": "[encoded data removed]",
      "text/plain": [
       "<Figure size 576x216 with 1 Axes>"
      ]
     },
     "metadata": {
      "needs_background": "light"
     },
     "output_type": "display_data"
    },
    {
     "data": {
      "image/png": "[encoded data removed]",
      "text/plain": [
       "<Figure size 576x216 with 1 Axes>"
      ]
     },
     "metadata": {
      "needs_background": "light"
     },
     "output_type": "display_data"
    }
   ],
   "source": [
    "# distribution\n",
    "for col in ['Tenure', 'MonthlyCharges', 'TotalCharges']:\n",
    "    fig = plt.figure(figsize=(8,3))\n",
    "    sns.kdeplot(df[col])"
   ]
  },
  {
   "cell_type": "markdown",
   "id": "3d409e39",
   "metadata": {},
   "source": [
    "### (6) Correlation: The correlation matrix plot shows that these numeric features have a positive relationship."
   ]
  },
  {
   "cell_type": "code",
   "execution_count": 49,
   "id": "3c1e1514",
   "metadata": {},
   "outputs": [
    {
     "data": {
      "text/html": [
       "<div>\n",
       "<style scoped>\n",
       "    .dataframe tbody tr th:only-of-type {\n",
       "        vertical-align: middle;\n",
       "    }\n",
       "\n",
       "    .dataframe tbody tr th {\n",
       "        vertical-align: top;\n",
       "    }\n",
       "\n",
       "    .dataframe thead th {\n",
       "        text-align: right;\n",
       "    }\n",
       "</style>\n",
       "<table border=\"1\" class=\"dataframe\">\n",
       "  <thead>\n",
       "    <tr style=\"text-align: right;\">\n",
       "      <th></th>\n",
       "      <th>Tenure</th>\n",
       "      <th>MonthlyCharges</th>\n",
       "      <th>TotalCharges</th>\n",
       "    </tr>\n",
       "  </thead>\n",
       "  <tbody>\n",
       "    <tr>\n",
       "      <th>Tenure</th>\n",
       "      <td>1.000000</td>\n",
       "      <td>0.247900</td>\n",
       "      <td>0.826178</td>\n",
       "    </tr>\n",
       "    <tr>\n",
       "      <th>MonthlyCharges</th>\n",
       "      <td>0.247900</td>\n",
       "      <td>1.000000</td>\n",
       "      <td>0.651174</td>\n",
       "    </tr>\n",
       "    <tr>\n",
       "      <th>TotalCharges</th>\n",
       "      <td>0.826178</td>\n",
       "      <td>0.651174</td>\n",
       "      <td>1.000000</td>\n",
       "    </tr>\n",
       "  </tbody>\n",
       "</table>\n",
       "</div>"
      ],
      "text/plain": [
       "                  Tenure  MonthlyCharges  TotalCharges\n",
       "Tenure          1.000000        0.247900      0.826178\n",
       "MonthlyCharges  0.247900        1.000000      0.651174\n",
       "TotalCharges    0.826178        0.651174      1.000000"
      ]
     },
     "execution_count": 49,
     "metadata": {},
     "output_type": "execute_result"
    }
   ],
   "source": [
    "#matrix correlation\n",
    "correlations = df.corr()\n",
    "correlations"
   ]
  },
  {
   "cell_type": "code",
   "execution_count": 50,
   "id": "cde3fc19",
   "metadata": {},
   "outputs": [
    {
     "data": {
      "image/png": "[encoded data removed]",
      "text/plain": [
       "<Figure size 720x576 with 2 Axes>"
      ]
     },
     "metadata": {
      "needs_background": "light"
     },
     "output_type": "display_data"
    }
   ],
   "source": [
    "# correlation between numerical features\n",
    "fig, ax=plt.subplots(figsize=(10,8))\n",
    "ax=sns.heatmap(correlations, annot=True)\n",
    "plt.show()"
   ]
  },
  {
   "cell_type": "code",
   "execution_count": 51,
   "id": "1ace17c1",
   "metadata": {},
   "outputs": [
    {
     "data": {
      "text/html": [
       "<div>\n",
       "<style scoped>\n",
       "    .dataframe tbody tr th:only-of-type {\n",
       "        vertical-align: middle;\n",
       "    }\n",
       "\n",
       "    .dataframe tbody tr th {\n",
       "        vertical-align: top;\n",
       "    }\n",
       "\n",
       "    .dataframe thead th {\n",
       "        text-align: right;\n",
       "    }\n",
       "</style>\n",
       "<table border=\"1\" class=\"dataframe\">\n",
       "  <thead>\n",
       "    <tr style=\"text-align: right;\">\n",
       "      <th></th>\n",
       "      <th>customerID</th>\n",
       "      <th>Gender</th>\n",
       "      <th>SeniorCitizen</th>\n",
       "      <th>Partner</th>\n",
       "      <th>Dependents</th>\n",
       "      <th>PhoneService</th>\n",
       "      <th>MultipleLines</th>\n",
       "      <th>InternetService</th>\n",
       "      <th>OnlineSecurity</th>\n",
       "      <th>OnlineBackup</th>\n",
       "      <th>DeviceProtection</th>\n",
       "      <th>TechSupport</th>\n",
       "      <th>StreamingTV</th>\n",
       "      <th>StreamingMovies</th>\n",
       "      <th>Contract</th>\n",
       "      <th>PaperlessBilling</th>\n",
       "      <th>PaymentMethod</th>\n",
       "      <th>Churn</th>\n",
       "    </tr>\n",
       "  </thead>\n",
       "  <tbody>\n",
       "    <tr>\n",
       "      <th>0</th>\n",
       "      <td>7590-VHVEG</td>\n",
       "      <td>Female</td>\n",
       "      <td>0</td>\n",
       "      <td>Yes</td>\n",
       "      <td>No</td>\n",
       "      <td>No</td>\n",
       "      <td>No phone service</td>\n",
       "      <td>DSL</td>\n",
       "      <td>No</td>\n",
       "      <td>Yes</td>\n",
       "      <td>No</td>\n",
       "      <td>No</td>\n",
       "      <td>No</td>\n",
       "      <td>No</td>\n",
       "      <td>Month-to-month</td>\n",
       "      <td>Yes</td>\n",
       "      <td>Electronic check</td>\n",
       "      <td>No</td>\n",
       "    </tr>\n",
       "    <tr>\n",
       "      <th>1</th>\n",
       "      <td>5575-GNVDE</td>\n",
       "      <td>Male</td>\n",
       "      <td>0</td>\n",
       "      <td>No</td>\n",
       "      <td>No</td>\n",
       "      <td>Yes</td>\n",
       "      <td>No</td>\n",
       "      <td>DSL</td>\n",
       "      <td>Yes</td>\n",
       "      <td>No</td>\n",
       "      <td>Yes</td>\n",
       "      <td>No</td>\n",
       "      <td>No</td>\n",
       "      <td>No</td>\n",
       "      <td>One year</td>\n",
       "      <td>No</td>\n",
       "      <td>Mailed check</td>\n",
       "      <td>No</td>\n",
       "    </tr>\n",
       "    <tr>\n",
       "      <th>2</th>\n",
       "      <td>3668-QPYBK</td>\n",
       "      <td>Male</td>\n",
       "      <td>0</td>\n",
       "      <td>No</td>\n",
       "      <td>No</td>\n",
       "      <td>Yes</td>\n",
       "      <td>No</td>\n",
       "      <td>DSL</td>\n",
       "      <td>Yes</td>\n",
       "      <td>Yes</td>\n",
       "      <td>No</td>\n",
       "      <td>No</td>\n",
       "      <td>No</td>\n",
       "      <td>No</td>\n",
       "      <td>Month-to-month</td>\n",
       "      <td>Yes</td>\n",
       "      <td>Mailed check</td>\n",
       "      <td>Yes</td>\n",
       "    </tr>\n",
       "    <tr>\n",
       "      <th>3</th>\n",
       "      <td>7795-CFOCW</td>\n",
       "      <td>Male</td>\n",
       "      <td>0</td>\n",
       "      <td>No</td>\n",
       "      <td>No</td>\n",
       "      <td>No</td>\n",
       "      <td>No phone service</td>\n",
       "      <td>DSL</td>\n",
       "      <td>Yes</td>\n",
       "      <td>No</td>\n",
       "      <td>Yes</td>\n",
       "      <td>Yes</td>\n",
       "      <td>No</td>\n",
       "      <td>No</td>\n",
       "      <td>One year</td>\n",
       "      <td>No</td>\n",
       "      <td>Bank transfer (automatic)</td>\n",
       "      <td>No</td>\n",
       "    </tr>\n",
       "    <tr>\n",
       "      <th>4</th>\n",
       "      <td>9237-HQITU</td>\n",
       "      <td>Female</td>\n",
       "      <td>0</td>\n",
       "      <td>No</td>\n",
       "      <td>No</td>\n",
       "      <td>Yes</td>\n",
       "      <td>No</td>\n",
       "      <td>Fiber optic</td>\n",
       "      <td>No</td>\n",
       "      <td>No</td>\n",
       "      <td>No</td>\n",
       "      <td>No</td>\n",
       "      <td>No</td>\n",
       "      <td>No</td>\n",
       "      <td>Month-to-month</td>\n",
       "      <td>Yes</td>\n",
       "      <td>Electronic check</td>\n",
       "      <td>Yes</td>\n",
       "    </tr>\n",
       "    <tr>\n",
       "      <th>...</th>\n",
       "      <td>...</td>\n",
       "      <td>...</td>\n",
       "      <td>...</td>\n",
       "      <td>...</td>\n",
       "      <td>...</td>\n",
       "      <td>...</td>\n",
       "      <td>...</td>\n",
       "      <td>...</td>\n",
       "      <td>...</td>\n",
       "      <td>...</td>\n",
       "      <td>...</td>\n",
       "      <td>...</td>\n",
       "      <td>...</td>\n",
       "      <td>...</td>\n",
       "      <td>...</td>\n",
       "      <td>...</td>\n",
       "      <td>...</td>\n",
       "      <td>...</td>\n",
       "    </tr>\n",
       "    <tr>\n",
       "      <th>7038</th>\n",
       "      <td>6840-RESVB</td>\n",
       "      <td>Male</td>\n",
       "      <td>0</td>\n",
       "      <td>Yes</td>\n",
       "      <td>Yes</td>\n",
       "      <td>Yes</td>\n",
       "      <td>Yes</td>\n",
       "      <td>DSL</td>\n",
       "      <td>Yes</td>\n",
       "      <td>No</td>\n",
       "      <td>Yes</td>\n",
       "      <td>Yes</td>\n",
       "      <td>Yes</td>\n",
       "      <td>Yes</td>\n",
       "      <td>One year</td>\n",
       "      <td>Yes</td>\n",
       "      <td>Mailed check</td>\n",
       "      <td>No</td>\n",
       "    </tr>\n",
       "    <tr>\n",
       "      <th>7039</th>\n",
       "      <td>2234-XADUH</td>\n",
       "      <td>Female</td>\n",
       "      <td>0</td>\n",
       "      <td>Yes</td>\n",
       "      <td>Yes</td>\n",
       "      <td>Yes</td>\n",
       "      <td>Yes</td>\n",
       "      <td>Fiber optic</td>\n",
       "      <td>No</td>\n",
       "      <td>Yes</td>\n",
       "      <td>Yes</td>\n",
       "      <td>No</td>\n",
       "      <td>Yes</td>\n",
       "      <td>Yes</td>\n",
       "      <td>One year</td>\n",
       "      <td>Yes</td>\n",
       "      <td>Credit card (automatic)</td>\n",
       "      <td>No</td>\n",
       "    </tr>\n",
       "    <tr>\n",
       "      <th>7040</th>\n",
       "      <td>4801-JZAZL</td>\n",
       "      <td>Female</td>\n",
       "      <td>0</td>\n",
       "      <td>Yes</td>\n",
       "      <td>Yes</td>\n",
       "      <td>No</td>\n",
       "      <td>No phone service</td>\n",
       "      <td>DSL</td>\n",
       "      <td>Yes</td>\n",
       "      <td>No</td>\n",
       "      <td>No</td>\n",
       "      <td>No</td>\n",
       "      <td>No</td>\n",
       "      <td>No</td>\n",
       "      <td>Month-to-month</td>\n",
       "      <td>Yes</td>\n",
       "      <td>Electronic check</td>\n",
       "      <td>No</td>\n",
       "    </tr>\n",
       "    <tr>\n",
       "      <th>7041</th>\n",
       "      <td>8361-LTMKD</td>\n",
       "      <td>Male</td>\n",
       "      <td>1</td>\n",
       "      <td>Yes</td>\n",
       "      <td>No</td>\n",
       "      <td>Yes</td>\n",
       "      <td>Yes</td>\n",
       "      <td>Fiber optic</td>\n",
       "      <td>No</td>\n",
       "      <td>No</td>\n",
       "      <td>No</td>\n",
       "      <td>No</td>\n",
       "      <td>No</td>\n",
       "      <td>No</td>\n",
       "      <td>Month-to-month</td>\n",
       "      <td>Yes</td>\n",
       "      <td>Mailed check</td>\n",
       "      <td>Yes</td>\n",
       "    </tr>\n",
       "    <tr>\n",
       "      <th>7042</th>\n",
       "      <td>3186-AJIEK</td>\n",
       "      <td>Male</td>\n",
       "      <td>0</td>\n",
       "      <td>No</td>\n",
       "      <td>No</td>\n",
       "      <td>Yes</td>\n",
       "      <td>No</td>\n",
       "      <td>Fiber optic</td>\n",
       "      <td>Yes</td>\n",
       "      <td>No</td>\n",
       "      <td>Yes</td>\n",
       "      <td>Yes</td>\n",
       "      <td>Yes</td>\n",
       "      <td>Yes</td>\n",
       "      <td>Two year</td>\n",
       "      <td>Yes</td>\n",
       "      <td>Bank transfer (automatic)</td>\n",
       "      <td>No</td>\n",
       "    </tr>\n",
       "  </tbody>\n",
       "</table>\n",
       "<p>7043 rows × 18 columns</p>\n",
       "</div>"
      ],
      "text/plain": [
       "      customerID  Gender SeniorCitizen Partner Dependents PhoneService  \\\n",
       "0     7590-VHVEG  Female             0     Yes         No           No   \n",
       "1     5575-GNVDE    Male             0      No         No          Yes   \n",
       "2     3668-QPYBK    Male             0      No         No          Yes   \n",
       "3     7795-CFOCW    Male             0      No         No           No   \n",
       "4     9237-HQITU  Female             0      No         No          Yes   \n",
       "...          ...     ...           ...     ...        ...          ...   \n",
       "7038  6840-RESVB    Male             0     Yes        Yes          Yes   \n",
       "7039  2234-XADUH  Female             0     Yes        Yes          Yes   \n",
       "7040  4801-JZAZL  Female             0     Yes        Yes           No   \n",
       "7041  8361-LTMKD    Male             1     Yes         No          Yes   \n",
       "7042  3186-AJIEK    Male             0      No         No          Yes   \n",
       "\n",
       "         MultipleLines InternetService OnlineSecurity OnlineBackup  \\\n",
       "0     No phone service             DSL             No          Yes   \n",
       "1                   No             DSL            Yes           No   \n",
       "2                   No             DSL            Yes          Yes   \n",
       "3     No phone service             DSL            Yes           No   \n",
       "4                   No     Fiber optic             No           No   \n",
       "...                ...             ...            ...          ...   \n",
       "7038               Yes             DSL            Yes           No   \n",
       "7039               Yes     Fiber optic             No          Yes   \n",
       "7040  No phone service             DSL            Yes           No   \n",
       "7041               Yes     Fiber optic             No           No   \n",
       "7042                No     Fiber optic            Yes           No   \n",
       "\n",
       "     DeviceProtection TechSupport StreamingTV StreamingMovies        Contract  \\\n",
       "0                  No          No          No              No  Month-to-month   \n",
       "1                 Yes          No          No              No        One year   \n",
       "2                  No          No          No              No  Month-to-month   \n",
       "3                 Yes         Yes          No              No        One year   \n",
       "4                  No          No          No              No  Month-to-month   \n",
       "...               ...         ...         ...             ...             ...   \n",
       "7038              Yes         Yes         Yes             Yes        One year   \n",
       "7039              Yes          No         Yes             Yes        One year   \n",
       "7040               No          No          No              No  Month-to-month   \n",
       "7041               No          No          No              No  Month-to-month   \n",
       "7042              Yes         Yes         Yes             Yes        Two year   \n",
       "\n",
       "     PaperlessBilling              PaymentMethod Churn  \n",
       "0                 Yes           Electronic check    No  \n",
       "1                  No               Mailed check    No  \n",
       "2                 Yes               Mailed check   Yes  \n",
       "3                  No  Bank transfer (automatic)    No  \n",
       "4                 Yes           Electronic check   Yes  \n",
       "...               ...                        ...   ...  \n",
       "7038              Yes               Mailed check    No  \n",
       "7039              Yes    Credit card (automatic)    No  \n",
       "7040              Yes           Electronic check    No  \n",
       "7041              Yes               Mailed check   Yes  \n",
       "7042              Yes  Bank transfer (automatic)    No  \n",
       "\n",
       "[7043 rows x 18 columns]"
      ]
     },
     "execution_count": 51,
     "metadata": {},
     "output_type": "execute_result"
    }
   ],
   "source": [
    "categorical"
   ]
  },
  {
   "cell_type": "code",
   "execution_count": 52,
   "id": "eff43ebc",
   "metadata": {},
   "outputs": [
    {
     "data": {
      "text/plain": [
       "Index(['customerID', 'Gender', 'SeniorCitizen', 'Partner', 'Dependents',\n",
       "       'PhoneService', 'MultipleLines', 'InternetService', 'OnlineSecurity',\n",
       "       'OnlineBackup', 'DeviceProtection', 'TechSupport', 'StreamingTV',\n",
       "       'StreamingMovies', 'Contract', 'PaperlessBilling', 'PaymentMethod',\n",
       "       'Churn'],\n",
       "      dtype='object')"
      ]
     },
     "execution_count": 52,
     "metadata": {},
     "output_type": "execute_result"
    }
   ],
   "source": [
    "categorical.columns"
   ]
  },
  {
   "cell_type": "markdown",
   "id": "072de115",
   "metadata": {},
   "source": [
    "### 3. Categorical Features\n",
    "(1) Gender: The churn rate is similar between male and female, indicating Gender may not be a good predictor.\n",
    "\n",
    "(2) Senior Citizen: Customer who is senior citizen is more likely to churn.\n",
    "\n",
    "(2) Partner: Customer who does not have partner is more likely to churn.\n",
    "\n",
    "(3) Dependents: Customer who does have dependents is more likely to churn."
   ]
  },
  {
   "cell_type": "code",
   "execution_count": 53,
   "id": "6594c58a",
   "metadata": {},
   "outputs": [
    {
     "data": {
      "image/png": "[encoded data removed]",
      "text/plain": [
       "<Figure size 576x360 with 1 Axes>"
      ]
     },
     "metadata": {
      "needs_background": "light"
     },
     "output_type": "display_data"
    },
    {
     "data": {
      "image/png": "[encoded data removed]",
      "text/plain": [
       "<Figure size 576x360 with 1 Axes>"
      ]
     },
     "metadata": {
      "needs_background": "light"
     },
     "output_type": "display_data"
    },
    {
     "data": {
      "image/png": "[encoded data removed]",
      "text/plain": [
       "<Figure size 576x360 with 1 Axes>"
      ]
     },
     "metadata": {
      "needs_background": "light"
     },
     "output_type": "display_data"
    },
    {
     "data": {
      "image/png": "[encoded data removed]",
      "text/plain": [
       "<Figure size 576x360 with 1 Axes>"
      ]
     },
     "metadata": {
      "needs_background": "light"
     },
     "output_type": "display_data"
    }
   ],
   "source": [
    "for col in ['Gender', 'SeniorCitizen', 'Partner', 'Dependents']:\n",
    "    plt.figure(figsize=(8,5))\n",
    "    sns.countplot(x=col, hue='Churn', data=df, palette=\"tab10\")\n",
    "    plt.show()"
   ]
  },
  {
   "cell_type": "markdown",
   "id": "f80edc65",
   "metadata": {},
   "source": [
    " (4) Phone Service: PhoneService is a redundant feature since we can get the same information from teh feature Multiple Lines. So, we could drop this column.\n",
    "\n",
    " (5) Multiple Lines: Customer who has multiple lines is slightly more likely to churn."
   ]
  },
  {
   "cell_type": "code",
   "execution_count": 54,
   "id": "1ab9e3fe",
   "metadata": {},
   "outputs": [
    {
     "data": {
      "image/png": "[encoded data removed]",
      "text/plain": [
       "<Figure size 576x360 with 1 Axes>"
      ]
     },
     "metadata": {
      "needs_background": "light"
     },
     "output_type": "display_data"
    },
    {
     "data": {
      "image/png": "[encoded data removed]",
      "text/plain": [
       "<Figure size 576x360 with 1 Axes>"
      ]
     },
     "metadata": {
      "needs_background": "light"
     },
     "output_type": "display_data"
    }
   ],
   "source": [
    "for col in ['PhoneService', 'MultipleLines']:\n",
    "    plt.figure(figsize=(8,5))\n",
    "    sns.countplot(x=col, hue='Churn', data=df, palette=\"tab10\")\n",
    "    plt.show()"
   ]
  },
  {
   "cell_type": "markdown",
   "id": "aec21cde",
   "metadata": {},
   "source": [
    "(6) Internet Service: If customer's Internet service provider is Fiber optic, then he/she is more likely to churn.\n",
    "\n",
    "(7) Online Security: Customer who does not have online security is more likely to churn.\n",
    "\n",
    "(8) Online Backup: Customer who does not have online backup is more likely to churn.\n",
    "\n",
    "(9) Device Protection: Customer who does not have device protection is more likely to churn.\n",
    "\n",
    "(10) Tech Support: Customer who does not have tech support is more likely to churn.\n",
    "\n",
    "(11) Streaming TV / Streaming Movies: Streaming TV and Streaming Movies have no big effect on churn rate; however, if customer does not have internet service, then he/she is less likely to churn."
   ]
  },
  {
   "cell_type": "code",
   "execution_count": 55,
   "id": "5b3a5ed8",
   "metadata": {},
   "outputs": [
    {
     "data": {
      "image/png": "[encoded data removed]",
      "text/plain": [
       "<Figure size 576x360 with 1 Axes>"
      ]
     },
     "metadata": {
      "needs_background": "light"
     },
     "output_type": "display_data"
    },
    {
     "data": {
      "image/png": "[encoded data removed]",
      "text/plain": [
       "<Figure size 576x360 with 1 Axes>"
      ]
     },
     "metadata": {
      "needs_background": "light"
     },
     "output_type": "display_data"
    },
    {
     "data": {
      "image/png": "[encoded data removed]",
      "text/plain": [
       "<Figure size 576x360 with 1 Axes>"
      ]
     },
     "metadata": {
      "needs_background": "light"
     },
     "output_type": "display_data"
    },
    {
     "data": {
      "image/png": "[encoded data removed]",
      "text/plain": [
       "<Figure size 576x360 with 1 Axes>"
      ]
     },
     "metadata": {
      "needs_background": "light"
     },
     "output_type": "display_data"
    },
    {
     "data": {
      "image/png": "[encoded data removed]",
      "text/plain": [
       "<Figure size 576x360 with 1 Axes>"
      ]
     },
     "metadata": {
      "needs_background": "light"
     },
     "output_type": "display_data"
    },
    {
     "data": {
      "image/png": "[encoded data removed]",
      "text/plain": [
       "<Figure size 576x360 with 1 Axes>"
      ]
     },
     "metadata": {
      "needs_background": "light"
     },
     "output_type": "display_data"
    },
    {
     "data": {
      "image/png": "[encoded data removed]",
      "text/plain": [
       "<Figure size 576x360 with 1 Axes>"
      ]
     },
     "metadata": {
      "needs_background": "light"
     },
     "output_type": "display_data"
    }
   ],
   "source": [
    "for col in ['InternetService', 'OnlineSecurity', 'OnlineBackup', 'DeviceProtection',\n",
    "            'TechSupport','StreamingTV', 'StreamingMovies']:\n",
    "    plt.figure(figsize=(8,5))\n",
    "    sns.countplot(x=col, hue='Churn', data=df, palette=\"tab10\")\n",
    "    plt.show()"
   ]
  },
  {
   "cell_type": "markdown",
   "id": "878df7bc",
   "metadata": {},
   "source": [
    "###  V -Data Preprocessing"
   ]
  },
  {
   "cell_type": "markdown",
   "id": "11b9d070",
   "metadata": {},
   "source": [
    " ### Droping Unnecessary Columns\n",
    "Remove the useless feature customerID.\n",
    "\n"
   ]
  },
  {
   "cell_type": "code",
   "execution_count": 56,
   "id": "8a901df8",
   "metadata": {
    "scrolled": true
   },
   "outputs": [
    {
     "data": {
      "text/html": [
       "<div>\n",
       "<style scoped>\n",
       "    .dataframe tbody tr th:only-of-type {\n",
       "        vertical-align: middle;\n",
       "    }\n",
       "\n",
       "    .dataframe tbody tr th {\n",
       "        vertical-align: top;\n",
       "    }\n",
       "\n",
       "    .dataframe thead th {\n",
       "        text-align: right;\n",
       "    }\n",
       "</style>\n",
       "<table border=\"1\" class=\"dataframe\">\n",
       "  <thead>\n",
       "    <tr style=\"text-align: right;\">\n",
       "      <th></th>\n",
       "      <th>Gender</th>\n",
       "      <th>SeniorCitizen</th>\n",
       "      <th>Partner</th>\n",
       "      <th>Dependents</th>\n",
       "      <th>Tenure</th>\n",
       "      <th>PhoneService</th>\n",
       "      <th>MultipleLines</th>\n",
       "      <th>InternetService</th>\n",
       "      <th>OnlineSecurity</th>\n",
       "      <th>OnlineBackup</th>\n",
       "      <th>DeviceProtection</th>\n",
       "      <th>TechSupport</th>\n",
       "      <th>StreamingTV</th>\n",
       "      <th>StreamingMovies</th>\n",
       "      <th>Contract</th>\n",
       "      <th>PaperlessBilling</th>\n",
       "      <th>PaymentMethod</th>\n",
       "      <th>MonthlyCharges</th>\n",
       "      <th>TotalCharges</th>\n",
       "      <th>Churn</th>\n",
       "    </tr>\n",
       "  </thead>\n",
       "  <tbody>\n",
       "    <tr>\n",
       "      <th>0</th>\n",
       "      <td>Female</td>\n",
       "      <td>0</td>\n",
       "      <td>Yes</td>\n",
       "      <td>No</td>\n",
       "      <td>1</td>\n",
       "      <td>No</td>\n",
       "      <td>No phone service</td>\n",
       "      <td>DSL</td>\n",
       "      <td>No</td>\n",
       "      <td>Yes</td>\n",
       "      <td>No</td>\n",
       "      <td>No</td>\n",
       "      <td>No</td>\n",
       "      <td>No</td>\n",
       "      <td>Month-to-month</td>\n",
       "      <td>Yes</td>\n",
       "      <td>Electronic check</td>\n",
       "      <td>29.85</td>\n",
       "      <td>29.850000</td>\n",
       "      <td>No</td>\n",
       "    </tr>\n",
       "    <tr>\n",
       "      <th>1</th>\n",
       "      <td>Male</td>\n",
       "      <td>0</td>\n",
       "      <td>No</td>\n",
       "      <td>No</td>\n",
       "      <td>34</td>\n",
       "      <td>Yes</td>\n",
       "      <td>No</td>\n",
       "      <td>DSL</td>\n",
       "      <td>Yes</td>\n",
       "      <td>No</td>\n",
       "      <td>Yes</td>\n",
       "      <td>No</td>\n",
       "      <td>No</td>\n",
       "      <td>No</td>\n",
       "      <td>One year</td>\n",
       "      <td>No</td>\n",
       "      <td>Mailed check</td>\n",
       "      <td>56.95</td>\n",
       "      <td>1889.500000</td>\n",
       "      <td>No</td>\n",
       "    </tr>\n",
       "    <tr>\n",
       "      <th>2</th>\n",
       "      <td>Male</td>\n",
       "      <td>0</td>\n",
       "      <td>No</td>\n",
       "      <td>No</td>\n",
       "      <td>2</td>\n",
       "      <td>Yes</td>\n",
       "      <td>No</td>\n",
       "      <td>DSL</td>\n",
       "      <td>Yes</td>\n",
       "      <td>Yes</td>\n",
       "      <td>No</td>\n",
       "      <td>No</td>\n",
       "      <td>No</td>\n",
       "      <td>No</td>\n",
       "      <td>Month-to-month</td>\n",
       "      <td>Yes</td>\n",
       "      <td>Mailed check</td>\n",
       "      <td>53.85</td>\n",
       "      <td>108.150002</td>\n",
       "      <td>Yes</td>\n",
       "    </tr>\n",
       "    <tr>\n",
       "      <th>3</th>\n",
       "      <td>Male</td>\n",
       "      <td>0</td>\n",
       "      <td>No</td>\n",
       "      <td>No</td>\n",
       "      <td>45</td>\n",
       "      <td>No</td>\n",
       "      <td>No phone service</td>\n",
       "      <td>DSL</td>\n",
       "      <td>Yes</td>\n",
       "      <td>No</td>\n",
       "      <td>Yes</td>\n",
       "      <td>Yes</td>\n",
       "      <td>No</td>\n",
       "      <td>No</td>\n",
       "      <td>One year</td>\n",
       "      <td>No</td>\n",
       "      <td>Bank transfer (automatic)</td>\n",
       "      <td>42.30</td>\n",
       "      <td>1840.750000</td>\n",
       "      <td>No</td>\n",
       "    </tr>\n",
       "    <tr>\n",
       "      <th>4</th>\n",
       "      <td>Female</td>\n",
       "      <td>0</td>\n",
       "      <td>No</td>\n",
       "      <td>No</td>\n",
       "      <td>2</td>\n",
       "      <td>Yes</td>\n",
       "      <td>No</td>\n",
       "      <td>Fiber optic</td>\n",
       "      <td>No</td>\n",
       "      <td>No</td>\n",
       "      <td>No</td>\n",
       "      <td>No</td>\n",
       "      <td>No</td>\n",
       "      <td>No</td>\n",
       "      <td>Month-to-month</td>\n",
       "      <td>Yes</td>\n",
       "      <td>Electronic check</td>\n",
       "      <td>70.70</td>\n",
       "      <td>151.649994</td>\n",
       "      <td>Yes</td>\n",
       "    </tr>\n",
       "  </tbody>\n",
       "</table>\n",
       "</div>"
      ],
      "text/plain": [
       "   Gender SeniorCitizen Partner Dependents  Tenure PhoneService  \\\n",
       "0  Female             0     Yes         No       1           No   \n",
       "1    Male             0      No         No      34          Yes   \n",
       "2    Male             0      No         No       2          Yes   \n",
       "3    Male             0      No         No      45           No   \n",
       "4  Female             0      No         No       2          Yes   \n",
       "\n",
       "      MultipleLines InternetService OnlineSecurity OnlineBackup  \\\n",
       "0  No phone service             DSL             No          Yes   \n",
       "1                No             DSL            Yes           No   \n",
       "2                No             DSL            Yes          Yes   \n",
       "3  No phone service             DSL            Yes           No   \n",
       "4                No     Fiber optic             No           No   \n",
       "\n",
       "  DeviceProtection TechSupport StreamingTV StreamingMovies        Contract  \\\n",
       "0               No          No          No              No  Month-to-month   \n",
       "1              Yes          No          No              No        One year   \n",
       "2               No          No          No              No  Month-to-month   \n",
       "3              Yes         Yes          No              No        One year   \n",
       "4               No          No          No              No  Month-to-month   \n",
       "\n",
       "  PaperlessBilling              PaymentMethod  MonthlyCharges  TotalCharges  \\\n",
       "0              Yes           Electronic check           29.85     29.850000   \n",
       "1               No               Mailed check           56.95   1889.500000   \n",
       "2              Yes               Mailed check           53.85    108.150002   \n",
       "3               No  Bank transfer (automatic)           42.30   1840.750000   \n",
       "4              Yes           Electronic check           70.70    151.649994   \n",
       "\n",
       "  Churn  \n",
       "0    No  \n",
       "1    No  \n",
       "2   Yes  \n",
       "3    No  \n",
       "4   Yes  "
      ]
     },
     "execution_count": 56,
     "metadata": {},
     "output_type": "execute_result"
    }
   ],
   "source": [
    "# remove customerID and PhoneService\n",
    "df2 = df.drop(['customerID'], axis = 1)\n",
    "df2.head(5)"
   ]
  },
  {
   "cell_type": "markdown",
   "id": "518cb3bd",
   "metadata": {},
   "source": [
    "### Categorical Data Encoding\n",
    "Encode categorical variables, we use One-Hot Encoding for nominal variables and Label Encoding for ordinal variables.\n",
    "\n",
    "One-Hot Encoding: Gender, Partner, Dependents, MultipleLines, InternetService, OnlineSecurity, OnlineBackup, DeviceProtection, TechSupport, StreamingTV, StreamingMovies, PaperlessBilling, PaymentMethod, Churn\n",
    "\n",
    "Label Encoding: Contract"
   ]
  },
  {
   "cell_type": "code",
   "execution_count": 57,
   "id": "297ca123",
   "metadata": {},
   "outputs": [],
   "source": [
    "# Dummy Variables(One-Hot Encoding)\n",
    "Gender = pd.get_dummies(df2['Gender'], prefix='Genger', drop_first=True)\n",
    "Partner = pd.get_dummies(df2['Partner'], prefix='Partner', drop_first=True)\n",
    "Dependents = pd.get_dummies(df2['Dependents'], prefix='Dependents', drop_first=True)\n",
    "MultipleLines = pd.get_dummies(df2['MultipleLines'], prefix='MultipleLines', drop_first=True)\n",
    "InternetService = pd.get_dummies(df2['InternetService'], prefix='InternetService', drop_first=True)\n",
    "OnlineSecurity = pd.get_dummies(df2['OnlineSecurity'], prefix='OnlineSecurity', drop_first=True)\n",
    "OnlineBackup = pd.get_dummies(df2['OnlineBackup'], prefix='OnlineBackup', drop_first=True)\n",
    "DeviceProtection = pd.get_dummies(df2['DeviceProtection'], prefix='DeviceProtection', drop_first=True)\n",
    "TechSupport = pd.get_dummies(df2['TechSupport'], prefix='TechSupport', drop_first=True)\n",
    "StreamingTV = pd.get_dummies(df2['StreamingTV'], prefix='StreamingTV', drop_first=True)\n",
    "StreamingMovies = pd.get_dummies(df2['StreamingMovies'], prefix='StreamingMovies', drop_first=True)\n",
    "PaperlessBilling = pd.get_dummies(df2['PaperlessBilling'], prefix='PaperlessBilling', drop_first=True)\n",
    "PaymentMethod = pd.get_dummies(df2['PaymentMethod'], prefix='PaymentMethod', drop_first=True)\n",
    "Churn = pd.get_dummies(df2['Churn'], prefix='Churn', drop_first=True)\n",
    "PaymentMethod = pd.get_dummies(df2['PhoneService'], prefix='PhoneService', drop_first=True)\n",
    "\n",
    "\n",
    "df3 = pd.concat([df2, Gender, Partner, Dependents, MultipleLines, InternetService, \n",
    "                 OnlineSecurity, OnlineBackup, DeviceProtection, TechSupport, StreamingTV, \n",
    "                 StreamingMovies, PaperlessBilling, PaymentMethod, Churn], axis=1)"
   ]
  },
  {
   "cell_type": "code",
   "execution_count": 58,
   "id": "ef034f38",
   "metadata": {},
   "outputs": [],
   "source": [
    "# Label Encoding\n",
    "from sklearn import preprocessing\n",
    "label_encoder = preprocessing.LabelEncoder()\n",
    "df3['Contract']= label_encoder.fit_transform(df3['Contract']) "
   ]
  },
  {
   "cell_type": "code",
   "execution_count": 59,
   "id": "feea6951",
   "metadata": {},
   "outputs": [
    {
     "data": {
      "text/html": [
       "<div>\n",
       "<style scoped>\n",
       "    .dataframe tbody tr th:only-of-type {\n",
       "        vertical-align: middle;\n",
       "    }\n",
       "\n",
       "    .dataframe tbody tr th {\n",
       "        vertical-align: top;\n",
       "    }\n",
       "\n",
       "    .dataframe thead th {\n",
       "        text-align: right;\n",
       "    }\n",
       "</style>\n",
       "<table border=\"1\" class=\"dataframe\">\n",
       "  <thead>\n",
       "    <tr style=\"text-align: right;\">\n",
       "      <th></th>\n",
       "      <th>SeniorCitizen</th>\n",
       "      <th>Tenure</th>\n",
       "      <th>MonthlyCharges</th>\n",
       "      <th>TotalCharges</th>\n",
       "      <th>Genger_Male</th>\n",
       "      <th>Partner_Yes</th>\n",
       "      <th>Dependents_Yes</th>\n",
       "      <th>MultipleLines_No phone service</th>\n",
       "      <th>MultipleLines_Yes</th>\n",
       "      <th>InternetService_Fiber optic</th>\n",
       "      <th>...</th>\n",
       "      <th>StreamingTV_No internet service</th>\n",
       "      <th>StreamingTV_Yes</th>\n",
       "      <th>StreamingMovies_No internet service</th>\n",
       "      <th>StreamingMovies_Yes</th>\n",
       "      <th>PaperlessBilling_Yes</th>\n",
       "      <th>PhoneService_No</th>\n",
       "      <th>PhoneService_Y</th>\n",
       "      <th>PhoneService_Yes</th>\n",
       "      <th>PhoneService_yes</th>\n",
       "      <th>Churn_Yes</th>\n",
       "    </tr>\n",
       "  </thead>\n",
       "  <tbody>\n",
       "    <tr>\n",
       "      <th>0</th>\n",
       "      <td>0</td>\n",
       "      <td>1</td>\n",
       "      <td>29.85</td>\n",
       "      <td>29.850000</td>\n",
       "      <td>0</td>\n",
       "      <td>1</td>\n",
       "      <td>0</td>\n",
       "      <td>1</td>\n",
       "      <td>0</td>\n",
       "      <td>0</td>\n",
       "      <td>...</td>\n",
       "      <td>0</td>\n",
       "      <td>0</td>\n",
       "      <td>0</td>\n",
       "      <td>0</td>\n",
       "      <td>1</td>\n",
       "      <td>1</td>\n",
       "      <td>0</td>\n",
       "      <td>0</td>\n",
       "      <td>0</td>\n",
       "      <td>0</td>\n",
       "    </tr>\n",
       "    <tr>\n",
       "      <th>1</th>\n",
       "      <td>0</td>\n",
       "      <td>34</td>\n",
       "      <td>56.95</td>\n",
       "      <td>1889.500000</td>\n",
       "      <td>1</td>\n",
       "      <td>0</td>\n",
       "      <td>0</td>\n",
       "      <td>0</td>\n",
       "      <td>0</td>\n",
       "      <td>0</td>\n",
       "      <td>...</td>\n",
       "      <td>0</td>\n",
       "      <td>0</td>\n",
       "      <td>0</td>\n",
       "      <td>0</td>\n",
       "      <td>0</td>\n",
       "      <td>0</td>\n",
       "      <td>0</td>\n",
       "      <td>1</td>\n",
       "      <td>0</td>\n",
       "      <td>0</td>\n",
       "    </tr>\n",
       "    <tr>\n",
       "      <th>2</th>\n",
       "      <td>0</td>\n",
       "      <td>2</td>\n",
       "      <td>53.85</td>\n",
       "      <td>108.150002</td>\n",
       "      <td>1</td>\n",
       "      <td>0</td>\n",
       "      <td>0</td>\n",
       "      <td>0</td>\n",
       "      <td>0</td>\n",
       "      <td>0</td>\n",
       "      <td>...</td>\n",
       "      <td>0</td>\n",
       "      <td>0</td>\n",
       "      <td>0</td>\n",
       "      <td>0</td>\n",
       "      <td>1</td>\n",
       "      <td>0</td>\n",
       "      <td>0</td>\n",
       "      <td>1</td>\n",
       "      <td>0</td>\n",
       "      <td>1</td>\n",
       "    </tr>\n",
       "    <tr>\n",
       "      <th>3</th>\n",
       "      <td>0</td>\n",
       "      <td>45</td>\n",
       "      <td>42.30</td>\n",
       "      <td>1840.750000</td>\n",
       "      <td>1</td>\n",
       "      <td>0</td>\n",
       "      <td>0</td>\n",
       "      <td>1</td>\n",
       "      <td>0</td>\n",
       "      <td>0</td>\n",
       "      <td>...</td>\n",
       "      <td>0</td>\n",
       "      <td>0</td>\n",
       "      <td>0</td>\n",
       "      <td>0</td>\n",
       "      <td>0</td>\n",
       "      <td>1</td>\n",
       "      <td>0</td>\n",
       "      <td>0</td>\n",
       "      <td>0</td>\n",
       "      <td>0</td>\n",
       "    </tr>\n",
       "    <tr>\n",
       "      <th>4</th>\n",
       "      <td>0</td>\n",
       "      <td>2</td>\n",
       "      <td>70.70</td>\n",
       "      <td>151.649994</td>\n",
       "      <td>0</td>\n",
       "      <td>0</td>\n",
       "      <td>0</td>\n",
       "      <td>0</td>\n",
       "      <td>0</td>\n",
       "      <td>1</td>\n",
       "      <td>...</td>\n",
       "      <td>0</td>\n",
       "      <td>0</td>\n",
       "      <td>0</td>\n",
       "      <td>0</td>\n",
       "      <td>1</td>\n",
       "      <td>0</td>\n",
       "      <td>0</td>\n",
       "      <td>1</td>\n",
       "      <td>0</td>\n",
       "      <td>1</td>\n",
       "    </tr>\n",
       "  </tbody>\n",
       "</table>\n",
       "<p>5 rows × 29 columns</p>\n",
       "</div>"
      ],
      "text/plain": [
       "  SeniorCitizen  Tenure  MonthlyCharges  TotalCharges  Genger_Male  \\\n",
       "0             0       1           29.85     29.850000            0   \n",
       "1             0      34           56.95   1889.500000            1   \n",
       "2             0       2           53.85    108.150002            1   \n",
       "3             0      45           42.30   1840.750000            1   \n",
       "4             0       2           70.70    151.649994            0   \n",
       "\n",
       "   Partner_Yes  Dependents_Yes  MultipleLines_No phone service  \\\n",
       "0            1               0                               1   \n",
       "1            0               0                               0   \n",
       "2            0               0                               0   \n",
       "3            0               0                               1   \n",
       "4            0               0                               0   \n",
       "\n",
       "   MultipleLines_Yes  InternetService_Fiber optic  ...  \\\n",
       "0                  0                            0  ...   \n",
       "1                  0                            0  ...   \n",
       "2                  0                            0  ...   \n",
       "3                  0                            0  ...   \n",
       "4                  0                            1  ...   \n",
       "\n",
       "   StreamingTV_No internet service  StreamingTV_Yes  \\\n",
       "0                                0                0   \n",
       "1                                0                0   \n",
       "2                                0                0   \n",
       "3                                0                0   \n",
       "4                                0                0   \n",
       "\n",
       "   StreamingMovies_No internet service  StreamingMovies_Yes  \\\n",
       "0                                    0                    0   \n",
       "1                                    0                    0   \n",
       "2                                    0                    0   \n",
       "3                                    0                    0   \n",
       "4                                    0                    0   \n",
       "\n",
       "   PaperlessBilling_Yes  PhoneService_No  PhoneService_Y  PhoneService_Yes  \\\n",
       "0                     1                1               0                 0   \n",
       "1                     0                0               0                 1   \n",
       "2                     1                0               0                 1   \n",
       "3                     0                1               0                 0   \n",
       "4                     1                0               0                 1   \n",
       "\n",
       "   PhoneService_yes  Churn_Yes  \n",
       "0                 0          0  \n",
       "1                 0          0  \n",
       "2                 0          1  \n",
       "3                 0          0  \n",
       "4                 0          1  \n",
       "\n",
       "[5 rows x 29 columns]"
      ]
     },
     "execution_count": 59,
     "metadata": {},
     "output_type": "execute_result"
    }
   ],
   "source": [
    "# drop original columns\n",
    "list = ['Gender', 'Partner', 'Dependents', 'MultipleLines', 'InternetService', 'OnlineSecurity', 'OnlineBackup', \n",
    "'DeviceProtection', 'TechSupport', 'StreamingTV', 'StreamingMovies', 'PaperlessBilling', \n",
    "'PaymentMethod', 'Churn', 'Contract', 'PhoneService']\n",
    "df3.drop(df3[list], axis=1, inplace=True)\n",
    "df3.head()\n"
   ]
  },
  {
   "cell_type": "markdown",
   "id": "c4603a92",
   "metadata": {},
   "source": [
    "###  Splitting the Data into Training Set(70%) and Test Set(30%)\n",
    "We split the data in 70:30 ratio so that 70% of the data will be used for training the model while 30% will be used for testing the model."
   ]
  },
  {
   "cell_type": "code",
   "execution_count": 60,
   "id": "fdef6354",
   "metadata": {},
   "outputs": [],
   "source": [
    "# train test split\n",
    "from sklearn.model_selection import train_test_split # split dataset\n",
    "X_train, X_test, y_train, y_test = train_test_split(df3.drop('Churn_Yes',axis=1),df3['Churn_Yes'],test_size=0.3,random_state=101)"
   ]
  },
  {
   "cell_type": "code",
   "execution_count": 61,
   "id": "2c659f4f",
   "metadata": {},
   "outputs": [
    {
     "name": "stdout",
     "output_type": "stream",
     "text": [
      "RangeIndex(start=0, stop=4930, step=1)\n",
      "RangeIndex(start=0, stop=2113, step=1)\n",
      "RangeIndex(start=0, stop=4930, step=1)\n",
      "RangeIndex(start=0, stop=2113, step=1)\n"
     ]
    }
   ],
   "source": [
    "#check\n",
    "for i in [X_train, X_test, y_train, y_test]:\n",
    "    i.index = range(i.shape[0]) \n",
    "    print(i.index)"
   ]
  },
  {
   "cell_type": "code",
   "execution_count": 62,
   "id": "ba5a6200",
   "metadata": {},
   "outputs": [],
   "source": [
    "## Standardization\n",
    "standard_scaler = preprocessing.StandardScaler().fit(X_train)\n",
    "X_train_standard = standard_scaler.transform(X_train)\n",
    "X_test_standard = standard_scaler.transform(X_test)\n",
    "\n",
    "#from sklearn.preprocessing import StandardScaler\n",
    "#scaler_s = StandardScaler() \n",
    "#data_standard_scaled = scaler_s.fit_transform(data)"
   ]
  },
  {
   "cell_type": "code",
   "execution_count": 63,
   "id": "319212b3",
   "metadata": {},
   "outputs": [],
   "source": [
    "# Normalization\n",
    "minmax_scaler = preprocessing.MinMaxScaler().fit(X_train)\n",
    "X_train_minmax = minmax_scaler.transform(X_train)\n",
    "X_test_minmax = minmax_scaler.transform(X_test)\n",
    "\n",
    "#from sklearn.preprocessing import MinMaxScaler\n",
    "#scaler_m = MinMaxScaler() \n",
    "#data_normal_scaled = scaler_m.fit_transform(data)"
   ]
  },
  {
   "cell_type": "markdown",
   "id": "fcfc2587",
   "metadata": {},
   "source": [
    "## VI. Model Building & Evaluation\n",
    "1. Logistic Regression"
   ]
  },
  {
   "cell_type": "code",
   "execution_count": 64,
   "id": "ef2598ab",
   "metadata": {},
   "outputs": [],
   "source": [
    "# sklearn\n",
    "from sklearn.model_selection import train_test_split\n",
    "from sklearn.preprocessing import MinMaxScaler\n",
    "from sklearn.linear_model import LinearRegression, SGDRegressor\n",
    "from sklearn.tree import DecisionTreeRegressor\n",
    "from sklearn.neighbors import KNeighborsRegressor\n",
    "from sklearn.svm import SVR\n",
    "from sklearn.neural_network import MLPRegressor\n",
    "from sklearn.ensemble import RandomForestRegressor"
   ]
  },
  {
   "cell_type": "code",
   "execution_count": 65,
   "id": "98f5d5f4",
   "metadata": {},
   "outputs": [],
   "source": [
    "# Define function to run all models\n",
    "def models_automation(models, X_train_standard, y_train,X_test_standard, y_test):\n",
    "    for model in models:\n",
    "        model.fit(X_train_standard, y_train)\n",
    "        print(f\"{model.__class__.__name__}: Train -> {model.score(X_train, y_train)}, Test -> {model.score(X_test, y_test)}\")"
   ]
  },
  {
   "cell_type": "code",
   "execution_count": 66,
   "id": "d163e66c",
   "metadata": {},
   "outputs": [
    {
     "name": "stderr",
     "output_type": "stream",
     "text": [
      "C:\\Users\\Administrator\\anaconda3\\lib\\site-packages\\sklearn\\base.py:432: UserWarning: X has feature names, but LinearRegression was fitted without feature names\n",
      "  warnings.warn(\n",
      "C:\\Users\\Administrator\\anaconda3\\lib\\site-packages\\sklearn\\base.py:432: UserWarning: X has feature names, but LinearRegression was fitted without feature names\n",
      "  warnings.warn(\n"
     ]
    },
    {
     "name": "stdout",
     "output_type": "stream",
     "text": [
      "LinearRegression: Train -> -655294.3976459111, Test -> -680157.6944326266\n"
     ]
    },
    {
     "name": "stderr",
     "output_type": "stream",
     "text": [
      "C:\\Users\\Administrator\\anaconda3\\lib\\site-packages\\sklearn\\base.py:432: UserWarning: X has feature names, but MLPRegressor was fitted without feature names\n",
      "  warnings.warn(\n",
      "C:\\Users\\Administrator\\anaconda3\\lib\\site-packages\\sklearn\\base.py:432: UserWarning: X has feature names, but MLPRegressor was fitted without feature names\n",
      "  warnings.warn(\n",
      "C:\\Users\\Administrator\\anaconda3\\lib\\site-packages\\sklearn\\base.py:432: UserWarning: X has feature names, but DecisionTreeRegressor was fitted without feature names\n",
      "  warnings.warn(\n",
      "C:\\Users\\Administrator\\anaconda3\\lib\\site-packages\\sklearn\\base.py:432: UserWarning: X has feature names, but DecisionTreeRegressor was fitted without feature names\n",
      "  warnings.warn(\n"
     ]
    },
    {
     "name": "stdout",
     "output_type": "stream",
     "text": [
      "MLPRegressor: Train -> -1996502.198236548, Test -> -2073835.7922688357\n",
      "DecisionTreeRegressor: Train -> -0.7492128978062753, Test -> -0.7138647610833901\n",
      "RandomForestRegressor: Train -> -0.10044027084106011, Test -> -0.08461437252875403\n"
     ]
    },
    {
     "name": "stderr",
     "output_type": "stream",
     "text": [
      "C:\\Users\\Administrator\\anaconda3\\lib\\site-packages\\sklearn\\base.py:432: UserWarning: X has feature names, but RandomForestRegressor was fitted without feature names\n",
      "  warnings.warn(\n",
      "C:\\Users\\Administrator\\anaconda3\\lib\\site-packages\\sklearn\\base.py:432: UserWarning: X has feature names, but RandomForestRegressor was fitted without feature names\n",
      "  warnings.warn(\n"
     ]
    }
   ],
   "source": [
    "model_list = [LinearRegression(), MLPRegressor(),DecisionTreeRegressor(),RandomForestRegressor()]\n",
    "models_automation(model_list, X_train_standard, y_train,X_test_standard, y_test)"
   ]
  },
  {
   "cell_type": "markdown",
   "id": "c85b29c9",
   "metadata": {},
   "source": [
    "### 1. Logistic Regression"
   ]
  },
  {
   "cell_type": "code",
   "execution_count": 67,
   "id": "e08592be",
   "metadata": {},
   "outputs": [
    {
     "data": {
      "text/html": [
       "<style>#sk-container-id-1 {color: black;background-color: white;}#sk-container-id-1 pre{padding: 0;}#sk-container-id-1 div.sk-toggleable {background-color: white;}#sk-container-id-1 label.sk-toggleable__label {cursor: pointer;display: block;width: 100%;margin-bottom: 0;padding: 0.3em;box-sizing: border-box;text-align: center;}#sk-container-id-1 label.sk-toggleable__label-arrow:before {content: \"▸\";float: left;margin-right: 0.25em;color: #696969;}#sk-container-id-1 label.sk-toggleable__label-arrow:hover:before {color: black;}#sk-container-id-1 div.sk-estimator:hover label.sk-toggleable__label-arrow:before {color: black;}#sk-container-id-1 div.sk-toggleable__content {max-height: 0;max-width: 0;overflow: hidden;text-align: left;background-color: #f0f8ff;}#sk-container-id-1 div.sk-toggleable__content pre {margin: 0.2em;color: black;border-radius: 0.25em;background-color: #f0f8ff;}#sk-container-id-1 input.sk-toggleable__control:checked~div.sk-toggleable__content {max-height: 200px;max-width: 100%;overflow: auto;}#sk-container-id-1 input.sk-toggleable__control:checked~label.sk-toggleable__label-arrow:before {content: \"▾\";}#sk-container-id-1 div.sk-estimator input.sk-toggleable__control:checked~label.sk-toggleable__label {background-color: #d4ebff;}#sk-container-id-1 div.sk-label input.sk-toggleable__control:checked~label.sk-toggleable__label {background-color: #d4ebff;}#sk-container-id-1 input.sk-hidden--visually {border: 0;clip: rect(1px 1px 1px 1px);clip: rect(1px, 1px, 1px, 1px);height: 1px;margin: -1px;overflow: hidden;padding: 0;position: absolute;width: 1px;}#sk-container-id-1 div.sk-estimator {font-family: monospace;background-color: #f0f8ff;border: 1px dotted black;border-radius: 0.25em;box-sizing: border-box;margin-bottom: 0.5em;}#sk-container-id-1 div.sk-estimator:hover {background-color: #d4ebff;}#sk-container-id-1 div.sk-parallel-item::after {content: \"\";width: 100%;border-bottom: 1px solid gray;flex-grow: 1;}#sk-container-id-1 div.sk-label:hover label.sk-toggleable__label {background-color: #d4ebff;}#sk-container-id-1 div.sk-serial::before {content: \"\";position: absolute;border-left: 1px solid gray;box-sizing: border-box;top: 0;bottom: 0;left: 50%;z-index: 0;}#sk-container-id-1 div.sk-serial {display: flex;flex-direction: column;align-items: center;background-color: white;padding-right: 0.2em;padding-left: 0.2em;position: relative;}#sk-container-id-1 div.sk-item {position: relative;z-index: 1;}#sk-container-id-1 div.sk-parallel {display: flex;align-items: stretch;justify-content: center;background-color: white;position: relative;}#sk-container-id-1 div.sk-item::before, #sk-container-id-1 div.sk-parallel-item::before {content: \"\";position: absolute;border-left: 1px solid gray;box-sizing: border-box;top: 0;bottom: 0;left: 50%;z-index: -1;}#sk-container-id-1 div.sk-parallel-item {display: flex;flex-direction: column;z-index: 1;position: relative;background-color: white;}#sk-container-id-1 div.sk-parallel-item:first-child::after {align-self: flex-end;width: 50%;}#sk-container-id-1 div.sk-parallel-item:last-child::after {align-self: flex-start;width: 50%;}#sk-container-id-1 div.sk-parallel-item:only-child::after {width: 0;}#sk-container-id-1 div.sk-dashed-wrapped {border: 1px dashed gray;margin: 0 0.4em 0.5em 0.4em;box-sizing: border-box;padding-bottom: 0.4em;background-color: white;}#sk-container-id-1 div.sk-label label {font-family: monospace;font-weight: bold;display: inline-block;line-height: 1.2em;}#sk-container-id-1 div.sk-label-container {text-align: center;}#sk-container-id-1 div.sk-container {/* jupyter's `normalize.less` sets `[hidden] { display: none; }` but bootstrap.min.css set `[hidden] { display: none !important; }` so we also need the `!important` here to be able to override the default hidden behavior on the sphinx rendered scikit-learn.org. See: https://github.com/scikit-learn/scikit-learn/issues/21755 */display: inline-block !important;position: relative;}#sk-container-id-1 div.sk-text-repr-fallback {display: none;}</style><div id=\"sk-container-id-1\" class=\"sk-top-container\"><div class=\"sk-text-repr-fallback\"><pre>LogisticRegression(class_weight=&#x27;balanced&#x27;, max_iter=1000, random_state=0)</pre><b>In a Jupyter environment, please rerun this cell to show the HTML representation or trust the notebook. <br />On GitHub, the HTML representation is unable to render, please try loading this page with nbviewer.org.</b></div><div class=\"sk-container\" hidden><div class=\"sk-item\"><div class=\"sk-estimator sk-toggleable\"><input class=\"sk-toggleable__control sk-hidden--visually\" id=\"sk-estimator-id-1\" type=\"checkbox\" checked><label for=\"sk-estimator-id-1\" class=\"sk-toggleable__label sk-toggleable__label-arrow\">LogisticRegression</label><div class=\"sk-toggleable__content\"><pre>LogisticRegression(class_weight=&#x27;balanced&#x27;, max_iter=1000, random_state=0)</pre></div></div></div></div></div>"
      ],
      "text/plain": [
       "LogisticRegression(class_weight='balanced', max_iter=1000, random_state=0)"
      ]
     },
     "execution_count": 67,
     "metadata": {},
     "output_type": "execute_result"
    }
   ],
   "source": [
    "# training \n",
    "from sklearn.linear_model import LogisticRegression\n",
    "lm = LogisticRegression(random_state=0, max_iter=1000, solver='lbfgs', class_weight='balanced')\n",
    "lm.fit(X_train_standard, y_train)"
   ]
  },
  {
   "cell_type": "code",
   "execution_count": 68,
   "id": "6e0ee3db",
   "metadata": {},
   "outputs": [],
   "source": [
    "# predicting\n",
    "y_pred = lm.predict(X_test_standard)"
   ]
  },
  {
   "cell_type": "code",
   "execution_count": 69,
   "id": "55666096",
   "metadata": {},
   "outputs": [
    {
     "name": "stdout",
     "output_type": "stream",
     "text": [
      "              precision    recall  f1-score   support\n",
      "\n",
      "           0       0.89      0.75      0.82      1546\n",
      "           1       0.53      0.75      0.62       567\n",
      "\n",
      "    accuracy                           0.75      2113\n",
      "   macro avg       0.71      0.75      0.72      2113\n",
      "weighted avg       0.79      0.75      0.76      2113\n",
      "\n"
     ]
    }
   ],
   "source": [
    " #evaluation\n",
    "from sklearn.metrics import classification_report \n",
    "print(classification_report(y_test, y_pred))"
   ]
  },
  {
   "cell_type": "code",
   "execution_count": 70,
   "id": "ca3935d9",
   "metadata": {},
   "outputs": [
    {
     "name": "stdout",
     "output_type": "stream",
     "text": [
      "[[1167  379]\n",
      " [ 142  425]]\n"
     ]
    }
   ],
   "source": [
    "# confusion_matrix\n",
    "from sklearn.metrics import confusion_matrix\n",
    "print(confusion_matrix(y_test, y_pred))"
   ]
  },
  {
   "cell_type": "code",
   "execution_count": 71,
   "id": "1566a1f8",
   "metadata": {},
   "outputs": [],
   "source": [
    "#!pip install --upgrade scikit-learn"
   ]
  },
  {
   "cell_type": "code",
   "execution_count": 72,
   "id": "b52b4de8",
   "metadata": {},
   "outputs": [],
   "source": [
    "#Random Forest\n",
    "# training and predicting\n",
    "from sklearn.ensemble import RandomForestClassifier\n",
    "forest = RandomForestClassifier()\n",
    "forest.fit(X_train, y_train)\n",
    "y_pred = forest.predict(X_test)"
   ]
  },
  {
   "cell_type": "code",
   "execution_count": 73,
   "id": "b21b6c84",
   "metadata": {},
   "outputs": [
    {
     "name": "stdout",
     "output_type": "stream",
     "text": [
      "              precision    recall  f1-score   support\n",
      "\n",
      "           0       0.82      0.91      0.86      1546\n",
      "           1       0.64      0.45      0.53       567\n",
      "\n",
      "    accuracy                           0.79      2113\n",
      "   macro avg       0.73      0.68      0.70      2113\n",
      "weighted avg       0.77      0.79      0.77      2113\n",
      "\n"
     ]
    }
   ],
   "source": [
    "# evaluation\n",
    "from sklearn.metrics import classification_report \n",
    "print(classification_report(y_test, y_pred))"
   ]
  },
  {
   "cell_type": "code",
   "execution_count": 74,
   "id": "f93517bc",
   "metadata": {},
   "outputs": [
    {
     "data": {
      "text/plain": [
       "<AxesSubplot:>"
      ]
     },
     "execution_count": 74,
     "metadata": {},
     "output_type": "execute_result"
    },
    {
     "data": {
      "image/png": "[encoded data removed]",
      "text/plain": [
       "<Figure size 432x288 with 1 Axes>"
      ]
     },
     "metadata": {
      "needs_background": "light"
     },
     "output_type": "display_data"
    }
   ],
   "source": [
    "importances = forest.feature_importances_\n",
    "weights = pd.Series(importances,index=X_train.columns.values)\n",
    "weights.sort_values()[-10:].plot(kind = 'barh')"
   ]
  },
  {
   "cell_type": "markdown",
   "id": "60b4cb8e",
   "metadata": {},
   "source": [
    "## VII. Conclusion\n",
    " the best model is Logistic Regression \n"
   ]
  },
  {
   "cell_type": "code",
   "execution_count": null,
   "id": "4cb786f0",
   "metadata": {},
   "outputs": [],
   "source": []
  },
  {
   "cell_type": "code",
   "execution_count": null,
   "id": "bc78696d",
   "metadata": {},
   "outputs": [],
   "source": []
  }
 ],
 "metadata": {
  "kernelspec": {
   "display_name": "Python 3 (ipykernel)",
   "language": "python",
   "name": "python3"
  },
  "language_info": {
   "codemirror_mode": {
    "name": "ipython",
    "version": 3
   },
   "file_extension": ".py",
   "mimetype": "text/x-python",
   "name": "python",
   "nbconvert_exporter": "python",
   "pygments_lexer": "ipython3",
   "version": "3.9.7"
  }
 },
 "nbformat": 4,
 "nbformat_minor": 5
}
